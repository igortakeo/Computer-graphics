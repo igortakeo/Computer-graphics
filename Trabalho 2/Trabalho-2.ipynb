{
 "cells": [
  {
   "cell_type": "markdown",
   "metadata": {},
   "source": [
    "# Trabalho 2"
   ]
  },
  {
   "cell_type": "code",
   "execution_count": 173,
   "metadata": {},
   "outputs": [],
   "source": [
    "import glfw\n",
    "from OpenGL.GL import *\n",
    "import OpenGL.GL.shaders\n",
    "import numpy as np\n",
    "import glm\n",
    "import math\n",
    "from PIL import Image"
   ]
  },
  {
   "cell_type": "markdown",
   "metadata": {},
   "source": [
    "### Inicializando janela"
   ]
  },
  {
   "cell_type": "code",
   "execution_count": 174,
   "metadata": {},
   "outputs": [],
   "source": [
    "glfw.init()\n",
    "glfw.window_hint(glfw.VISIBLE, glfw.FALSE);\n",
    "altura = 768\n",
    "largura = 1366\n",
    "qtd_texturas = 50\n",
    "window = glfw.create_window(largura, altura, \"Trabalho 2\", None, None)\n",
    "glfw.make_context_current(window)"
   ]
  },
  {
   "cell_type": "markdown",
   "metadata": {},
   "source": [
    "### GLSL (OpenGL Shading Language)\n",
    "\n",
    "Aqui veremos nosso primeiro código GLSL.\n",
    "\n",
    "É uma linguagem de shading de alto nível baseada na linguagem de programação C.\n",
    "\n",
    "Nós estamos escrevendo código GLSL como se \"strings\" de uma variável (mas podemos ler de arquivos texto). Esse código, depois, terá que ser compilado e linkado ao nosso programa. \n",
    "\n",
    "Iremos aprender GLSL conforme a necessidade do curso. Usarmos uma versão do GLSL mais antiga, compatível com muitos dispositivos."
   ]
  },
  {
   "cell_type": "markdown",
   "metadata": {},
   "source": [
    "### GLSL para Vertex Shader\n",
    "\n",
    "No Pipeline programável, podemos interagir com Vertex Shaders.\n",
    "\n",
    "No código abaixo, estamos fazendo o seguinte:\n",
    "\n",
    "* Definindo uma variável chamada position do tipo vec3.\n",
    "* Definindo matrizes Model, View e Projection que acumulam transformações geométricas 3D e permitem navegação no cenário.\n",
    "* void main() é o ponto de entrada do nosso programa (função principal)\n",
    "* gl_Position é uma variável especial do GLSL. Variáveis que começam com 'gl_' são desse tipo. Nesse caso, determina a posição de um vértice. Observe que todo vértice tem 4 coordenadas, por isso nós combinamos nossa variável vec2 com uma variável vec4. Além disso, nós modificamos nosso vetor com base nas transformações Model, View e Projection."
   ]
  },
  {
   "cell_type": "code",
   "execution_count": 175,
   "metadata": {},
   "outputs": [],
   "source": [
    "vertex_code = \"\"\"\n",
    "        attribute vec3 position;\n",
    "        attribute vec2 texture_coord;\n",
    "        varying vec2 out_texture;\n",
    "                \n",
    "        uniform mat4 model;\n",
    "        uniform mat4 view;\n",
    "        uniform mat4 projection;        \n",
    "        \n",
    "        void main(){\n",
    "            gl_Position = projection * view * model * vec4(position,1.0);\n",
    "            out_texture = vec2(texture_coord);\n",
    "        }\n",
    "        \"\"\""
   ]
  },
  {
   "cell_type": "markdown",
   "metadata": {},
   "source": [
    "### GLSL para Fragment Shader\n",
    "\n",
    "No Pipeline programável, podemos interagir com Fragment Shaders.\n",
    "\n",
    "No código abaixo, estamos fazendo o seguinte:\n",
    "\n",
    "* void main() é o ponto de entrada do nosso programa (função principal)\n",
    "* gl_FragColor é uma variável especial do GLSL. Variáveis que começam com 'gl_' são desse tipo. Nesse caso, determina a cor de um fragmento. Nesse caso é um ponto, mas poderia ser outro objeto (ponto, linha, triangulos, etc)."
   ]
  },
  {
   "cell_type": "markdown",
   "metadata": {},
   "source": [
    "### Possibilitando modificar a cor.\n",
    "\n",
    "Nos exemplos anteriores, a variável gl_FragColor estava definida de forma fixa (com cor R=0, G=0, B=0).\n",
    "\n",
    "Agora, nós vamos criar uma variável do tipo \"uniform\", de quatro posições (vec4), para receber o dado de cor do nosso programa rodando em CPU."
   ]
  },
  {
   "cell_type": "code",
   "execution_count": 176,
   "metadata": {},
   "outputs": [],
   "source": [
    "fragment_code = \"\"\"\n",
    "        uniform vec4 color;\n",
    "        varying vec2 out_texture;\n",
    "        uniform sampler2D samplerTexture;\n",
    "        \n",
    "        void main(){\n",
    "            vec4 texture = texture2D(samplerTexture, out_texture);\n",
    "            gl_FragColor = texture;\n",
    "        }\n",
    "        \"\"\""
   ]
  },
  {
   "cell_type": "markdown",
   "metadata": {},
   "source": [
    "### Requisitando slot para a GPU para nossos programas Vertex e Fragment Shaders"
   ]
  },
  {
   "cell_type": "code",
   "execution_count": 177,
   "metadata": {},
   "outputs": [],
   "source": [
    "# Request a program and shader slots from GPU\n",
    "program  = glCreateProgram()\n",
    "vertex   = glCreateShader(GL_VERTEX_SHADER)\n",
    "fragment = glCreateShader(GL_FRAGMENT_SHADER)\n"
   ]
  },
  {
   "cell_type": "markdown",
   "metadata": {},
   "source": [
    "### Associando nosso código-fonte aos slots solicitados"
   ]
  },
  {
   "cell_type": "code",
   "execution_count": 178,
   "metadata": {},
   "outputs": [],
   "source": [
    "# Set shaders source\n",
    "glShaderSource(vertex, vertex_code)\n",
    "glShaderSource(fragment, fragment_code)"
   ]
  },
  {
   "cell_type": "markdown",
   "metadata": {},
   "source": [
    "### Compilando o Vertex Shader\n",
    "\n",
    "Se há algum erro em nosso programa Vertex Shader, nosso app para por aqui."
   ]
  },
  {
   "cell_type": "code",
   "execution_count": 179,
   "metadata": {},
   "outputs": [],
   "source": [
    "# Compile shaders\n",
    "glCompileShader(vertex)\n",
    "if not glGetShaderiv(vertex, GL_COMPILE_STATUS):\n",
    "    error = glGetShaderInfoLog(vertex).decode()\n",
    "    print(error)\n",
    "    raise RuntimeError(\"Erro de compilacao do Vertex Shader\")\n"
   ]
  },
  {
   "cell_type": "markdown",
   "metadata": {},
   "source": [
    "### Compilando o Fragment Shader\n",
    "\n",
    "Se há algum erro em nosso programa Fragment Shader, nosso app para por aqui."
   ]
  },
  {
   "cell_type": "code",
   "execution_count": 180,
   "metadata": {},
   "outputs": [],
   "source": [
    "glCompileShader(fragment)\n",
    "if not glGetShaderiv(fragment, GL_COMPILE_STATUS):\n",
    "    error = glGetShaderInfoLog(fragment).decode()\n",
    "    print(error)\n",
    "    raise RuntimeError(\"Erro de compilacao do Fragment Shader\")"
   ]
  },
  {
   "cell_type": "markdown",
   "metadata": {},
   "source": [
    "### Associando os programas compilado ao programa principal"
   ]
  },
  {
   "cell_type": "code",
   "execution_count": 181,
   "metadata": {},
   "outputs": [],
   "source": [
    "# Attach shader objects to the program\n",
    "glAttachShader(program, vertex)\n",
    "glAttachShader(program, fragment)\n"
   ]
  },
  {
   "cell_type": "markdown",
   "metadata": {},
   "source": [
    "### Linkagem do programa"
   ]
  },
  {
   "cell_type": "code",
   "execution_count": 182,
   "metadata": {},
   "outputs": [],
   "source": [
    "# Build program\n",
    "glLinkProgram(program)\n",
    "if not glGetProgramiv(program, GL_LINK_STATUS):\n",
    "    print(glGetProgramInfoLog(program))\n",
    "    raise RuntimeError('Linking error')\n",
    "    \n",
    "# Make program the default program\n",
    "glUseProgram(program)"
   ]
  },
  {
   "cell_type": "markdown",
   "metadata": {},
   "source": [
    "### Preparando dados para enviar a GPU\n",
    "\n",
    "Nesse momento, nós compilamos nossos Vertex e Program Shaders para que a GPU possa processá-los.\n",
    "\n",
    "Por outro lado, as informações de vértices geralmente estão na CPU e devem ser transmitidas para a GPU.\n"
   ]
  },
  {
   "cell_type": "markdown",
   "metadata": {},
   "source": [
    "### Carregando Modelos (vértices e texturas) a partir de Arquivos\n",
    "\n",
    "A função abaixo carrega modelos a partir de arquivos no formato WaveFront.\n",
    "\n",
    "\n",
    "Para saber mais sobre o modelo, acesse: https://en.wikipedia.org/wiki/Wavefront_.obj_file\n",
    "\n",
    "\n",
    "Nos slides e vídeo-aula da Aula 11 - Parte 1, nós descrevemos o funcionamento desse formato."
   ]
  },
  {
   "cell_type": "code",
   "execution_count": 183,
   "metadata": {},
   "outputs": [],
   "source": [
    "def load_model_from_file(filename):\n",
    "    \"\"\"Loads a Wavefront OBJ file. \"\"\"\n",
    "    objects = {}\n",
    "    vertices = []\n",
    "    texture_coords = []\n",
    "    faces = []\n",
    "\n",
    "    material = None\n",
    "\n",
    "    # abre o arquivo obj para leitura\n",
    "    for line in open(filename, \"r\"): ## para cada linha do arquivo .obj\n",
    "        if line.startswith('#'): continue ## ignora comentarios\n",
    "        values = line.split() # quebra a linha por espaço\n",
    "        if not values: continue\n",
    "\n",
    "\n",
    "        ### recuperando vertices\n",
    "        if values[0] == 'v':\n",
    "            vertices.append(values[1:4])\n",
    "\n",
    "\n",
    "        ### recuperando coordenadas de textura\n",
    "        elif values[0] == 'vt':\n",
    "            texture_coords.append(values[1:3])\n",
    "\n",
    "        ### recuperando faces \n",
    "        elif values[0] in ('usemtl', 'usemat'):\n",
    "            material = values[1]\n",
    "        elif values[0] == 'f':\n",
    "            face = []\n",
    "            face_texture = []\n",
    "            for v in values[1:]:\n",
    "                w = v.split('/')\n",
    "                face.append(int(w[0]))\n",
    "                if len(w) >= 2 and len(w[1]) > 0:\n",
    "                    face_texture.append(int(w[1]))\n",
    "                else:\n",
    "                    face_texture.append(0)\n",
    "\n",
    "            faces.append((face, face_texture, material))\n",
    "\n",
    "    model = {}\n",
    "    model['vertices'] = vertices\n",
    "    model['texture'] = texture_coords\n",
    "    model['faces'] = faces\n",
    "\n",
    "    return model\n",
    "\n"
   ]
  },
  {
   "cell_type": "code",
   "execution_count": 184,
   "metadata": {},
   "outputs": [],
   "source": [
    "glEnable(GL_TEXTURE_2D)\n",
    "textures = glGenTextures(qtd_texturas)\n",
    "\n",
    "def load_texture_from_file(texture_id, img_textura):\n",
    "    glBindTexture(GL_TEXTURE_2D, texture_id)\n",
    "    glTexParameteri(GL_TEXTURE_2D, GL_TEXTURE_WRAP_S, GL_REPEAT)\n",
    "    glTexParameteri(GL_TEXTURE_2D, GL_TEXTURE_WRAP_T, GL_REPEAT)\n",
    "    glTexParameteri(GL_TEXTURE_2D, GL_TEXTURE_MIN_FILTER, GL_LINEAR)\n",
    "    glTexParameteri(GL_TEXTURE_2D, GL_TEXTURE_MAG_FILTER, GL_LINEAR)\n",
    "    img = Image.open(img_textura)\n",
    "    img_width = img.size[0]\n",
    "    img_height = img.size[1]\n",
    "    image_data = img.tobytes(\"raw\", \"RGB\", 0, -1)\n",
    "    glTexImage2D(GL_TEXTURE_2D, 0, GL_RGB, img_width, img_height, 0, GL_RGB, GL_UNSIGNED_BYTE, image_data)"
   ]
  },
  {
   "cell_type": "markdown",
   "metadata": {},
   "source": [
    "### A lista abaixo armazena todos os vertices carregados dos arquivos"
   ]
  },
  {
   "cell_type": "code",
   "execution_count": 185,
   "metadata": {},
   "outputs": [],
   "source": [
    "vertices_list = []    \n",
    "textures_coord_list = []"
   ]
  },
  {
   "cell_type": "markdown",
   "metadata": {},
   "source": [
    "### Vamos carregar cada modelo e definir funções para desenhá-los"
   ]
  },
  {
   "cell_type": "code",
   "execution_count": 186,
   "metadata": {},
   "outputs": [
    {
     "name": "stdout",
     "output_type": "stream",
     "text": [
      "Processando modelo piso.obj. Vertice inicial: 0\n",
      "Processando modelo piso.obj. Vertice final: 6\n"
     ]
    }
   ],
   "source": [
    "modelo = load_model_from_file('terreno/pedra.obj')\n",
    "\n",
    "print('Processando modelo piso.obj. Vertice inicial:',len(vertices_list))\n",
    "ini_pedra = len(vertices_list)\n",
    "for face in modelo['faces']:\n",
    "    for vertice_id in face[0]:\n",
    "        vertices_list.append( modelo['vertices'][vertice_id-1] )\n",
    "    for texture_id in face[1]:\n",
    "        textures_coord_list.append( modelo['texture'][texture_id-1] )\n",
    "print('Processando modelo piso.obj. Vertice final:',len(vertices_list))\n",
    "fim_pedra = len(vertices_list)\n",
    "\n",
    "load_texture_from_file(1,'terreno/piso-2.jpg')\n"
   ]
  },
  {
   "cell_type": "code",
   "execution_count": 187,
   "metadata": {},
   "outputs": [
    {
     "name": "stdout",
     "output_type": "stream",
     "text": [
      "Processando modelo grama.obj. Vertice inicial: 6\n",
      "Processando modelo grama.obj. Vertice final: 12\n"
     ]
    }
   ],
   "source": [
    "modelo = load_model_from_file('terreno/grama.obj')\n",
    "\n",
    "print('Processando modelo grama.obj. Vertice inicial:',len(vertices_list))\n",
    "ini_grama = len(vertices_list)\n",
    "for face in modelo['faces']:\n",
    "    for vertice_id in face[0]:\n",
    "        vertices_list.append( modelo['vertices'][vertice_id-1] )\n",
    "    for texture_id in face[1]:\n",
    "        textures_coord_list.append( modelo['texture'][texture_id-1] )\n",
    "print('Processando modelo grama.obj. Vertice final:',len(vertices_list))\n",
    "fim_grama = len(vertices_list)\n",
    "\n",
    "load_texture_from_file(4,'terreno/grama-1.jpg')\n"
   ]
  },
  {
   "cell_type": "code",
   "execution_count": 188,
   "metadata": {
    "scrolled": false,
    "tags": []
   },
   "outputs": [
    {
     "name": "stdout",
     "output_type": "stream",
     "text": [
      "Processando modelo casa.obj. Vertice inicial: 12\n",
      "metal_dark_brown vertice inicial:  12\n",
      "metal_grey vertice inicial:  469578\n",
      "wood_brown vertice inicial:  571176\n",
      "plaster_light_brown vertice inicial:  580644\n",
      "plaster_sand vertice inicial:  582819\n",
      "plate_grey vertice inicial:  583779\n",
      "wood_balls_brown vertice inicial:  583809\n",
      "foundation_brown_brick vertice inicial:  584145\n",
      "glass_window vertice inicial:  585381\n",
      "Processando modelo casa.obj. Vertice final: 585477\n"
     ]
    }
   ],
   "source": [
    "modelo = load_model_from_file('casa/casa.obj')\n",
    "\n",
    "print('Processando modelo casa.obj. Vertice inicial:',len(vertices_list))\n",
    "ini_casa = len(vertices_list)\n",
    "vertices_text = []\n",
    "faces_visited = []\n",
    "text_id = [2,5,6,7,8,9,10,11,12]\n",
    "for face in modelo['faces']:\n",
    "    if face[2] not in faces_visited:\n",
    "        print(face[2], 'vertice inicial: ', len(vertices_list))\n",
    "        faces_visited.append(face[2])\n",
    "        vertices_text.append(len(vertices_list))\n",
    "    for vertice_id in face[0]:\n",
    "        vertices_list.append( modelo['vertices'][vertice_id-1] )\n",
    "    for texture_id in face[1]:\n",
    "        textures_coord_list.append( modelo['texture'][texture_id-1] )\n",
    "print('Processando modelo casa.obj. Vertice final:',len(vertices_list))\n",
    "fim_casa = len(vertices_list)\n",
    "    \n",
    "vertices_text.append(fim_casa)\n",
    "\n",
    "load_texture_from_file(2,'casa/metal_dark_brown.jpg')\n",
    "load_texture_from_file(5,'casa/metal_grey.jpg')\n",
    "load_texture_from_file(6,'casa/wood_brown.jpg')\n",
    "load_texture_from_file(7,'casa/plaster_light_brown.jpg')\n",
    "load_texture_from_file(8,'casa/plaster_sand.jpg')\n",
    "load_texture_from_file(9,'casa/plate_grey.jpg')\n",
    "load_texture_from_file(10,'casa/wood_balls_brown.jpg')\n",
    "load_texture_from_file(11,'casa/foundation_brown_brick.jpg')\n",
    "load_texture_from_file(12,'casa/glass_window.jpg')\n"
   ]
  },
  {
   "cell_type": "code",
   "execution_count": 189,
   "metadata": {
    "scrolled": true
   },
   "outputs": [
    {
     "name": "stdout",
     "output_type": "stream",
     "text": [
      "Processando modelo sofa.obj. Vertice inicial: 585477\n",
      "Processando modelo sofa.obj. Vertice final: 590289\n"
     ]
    }
   ],
   "source": [
    "modelo = load_model_from_file('sofa/sofa.obj')\n",
    "\n",
    "print('Processando modelo sofa.obj. Vertice inicial:',len(vertices_list))\n",
    "ini_sofa = len(vertices_list)\n",
    "for face in modelo['faces']:\n",
    "    for vertice_id in face[0]:\n",
    "        vertices_list.append( modelo['vertices'][vertice_id-1] )\n",
    "    for texture_id in face[1]:\n",
    "        textures_coord_list.append( modelo['texture'][texture_id-1] )\n",
    "print('Processando modelo sofa.obj. Vertice final:',len(vertices_list))\n",
    "fim_sofa = len(vertices_list)\n",
    "\n",
    "load_texture_from_file(13,'sofa/sofa.jpg')"
   ]
  },
  {
   "cell_type": "code",
   "execution_count": 190,
   "metadata": {},
   "outputs": [
    {
     "name": "stdout",
     "output_type": "stream",
     "text": [
      "Processando modelo tv.obj. Vertice inicial: 590289\n",
      "Processando modelo tv.obj. Vertice final: 1263057\n"
     ]
    }
   ],
   "source": [
    "modelo = load_model_from_file('tv/tv.obj')\n",
    "\n",
    "print('Processando modelo tv.obj. Vertice inicial:',len(vertices_list))\n",
    "ini_tv = len(vertices_list)\n",
    "for face in modelo['faces']:\n",
    "    for vertice_id in face[0]:\n",
    "        vertices_list.append( modelo['vertices'][vertice_id-1] )\n",
    "    for texture_id in face[1]:\n",
    "        textures_coord_list.append( modelo['texture'][texture_id-1] )\n",
    "print('Processando modelo tv.obj. Vertice final:',len(vertices_list))\n",
    "fim_tv = len(vertices_list)\n",
    "\n",
    "load_texture_from_file(14,'tv/tv.png')"
   ]
  },
  {
   "cell_type": "code",
   "execution_count": 191,
   "metadata": {},
   "outputs": [
    {
     "name": "stdout",
     "output_type": "stream",
     "text": [
      "Processando modelo arvore.obj. Vertice inicial: 1263057\n",
      "Materiais.001 vertice inicial:  1263057\n",
      "Materiais vertice inicial:  1350753\n",
      "Processando modelo arvore.obj. Vertice final: 1408281\n"
     ]
    }
   ],
   "source": [
    "modelo = load_model_from_file('arvore/arvore.obj')\n",
    "\n",
    "print('Processando modelo arvore.obj. Vertice inicial:',len(vertices_list))\n",
    "ini_arvore = len(vertices_list)\n",
    "arvore_vertices_text = []\n",
    "faces_visited = []\n",
    "arvore_text_id = [15,16]\n",
    "for face in modelo['faces']:\n",
    "    if face[2] not in faces_visited:\n",
    "        print(face[2], 'vertice inicial: ', len(vertices_list))\n",
    "        faces_visited.append(face[2])\n",
    "        arvore_vertices_text.append(len(vertices_list))\n",
    "    for vertice_id in face[0]:\n",
    "        vertices_list.append( modelo['vertices'][vertice_id-1] )\n",
    "    for texture_id in face[1]:\n",
    "        textures_coord_list.append( modelo['texture'][texture_id-1] )\n",
    "print('Processando modelo arvore.obj. Vertice final:',len(vertices_list))\n",
    "fim_arvore = len(vertices_list)\n",
    "    \n",
    "arvore_vertices_text.append(fim_arvore)\n",
    "\n",
    "load_texture_from_file(15,'arvore/tronco.jpg')\n",
    "load_texture_from_file(16,'arvore/folha.jpg')\n"
   ]
  },
  {
   "cell_type": "code",
   "execution_count": 192,
   "metadata": {},
   "outputs": [
    {
     "name": "stdout",
     "output_type": "stream",
     "text": [
      "Processando modelo pato.obj. Vertice inicial: 1408281\n",
      "Processando modelo pato.obj. Vertice final: 1460793\n"
     ]
    }
   ],
   "source": [
    "modelo = load_model_from_file('pato/pato.obj')\n",
    "\n",
    "print('Processando modelo pato.obj. Vertice inicial:',len(vertices_list))\n",
    "ini_pato = len(vertices_list)\n",
    "for face in modelo['faces']:\n",
    "    for vertice_id in face[0]:\n",
    "        vertices_list.append( modelo['vertices'][vertice_id-1] )\n",
    "    for texture_id in face[1]:\n",
    "        textures_coord_list.append( modelo['texture'][texture_id-1] )\n",
    "print('Processando modelo pato.obj. Vertice final:',len(vertices_list))\n",
    "fim_pato = len(vertices_list)\n",
    "\n",
    "load_texture_from_file(17,'pato/pato.jpg')"
   ]
  },
  {
   "cell_type": "code",
   "execution_count": 193,
   "metadata": {},
   "outputs": [
    {
     "name": "stdout",
     "output_type": "stream",
     "text": [
      "Processando modelo mesa.obj. Vertice inicial: 1460793\n",
      "Processando modelo mesa.obj. Vertice final: 1469547\n"
     ]
    }
   ],
   "source": [
    "modelo = load_model_from_file('mesa/mesa.obj')\n",
    "\n",
    "print('Processando modelo mesa.obj. Vertice inicial:',len(vertices_list))\n",
    "ini_mesa = len(vertices_list)\n",
    "for face in modelo['faces']:\n",
    "    for vertice_id in face[0]:\n",
    "        vertices_list.append( modelo['vertices'][vertice_id-1] )\n",
    "    for texture_id in face[1]:\n",
    "        textures_coord_list.append( modelo['texture'][texture_id-1] )\n",
    "print('Processando modelo mesa.obj. Vertice final:',len(vertices_list))\n",
    "fim_mesa = len(vertices_list)\n",
    "\n",
    "load_texture_from_file(18,'mesa/mesa.png')"
   ]
  },
  {
   "cell_type": "code",
   "execution_count": 194,
   "metadata": {},
   "outputs": [
    {
     "name": "stdout",
     "output_type": "stream",
     "text": [
      "Processando modelo ceu.obj. Vertice inicial: 1469547\n",
      "Processando modelo ceu.obj. Vertice final: 1472427\n"
     ]
    }
   ],
   "source": [
    "modelo = load_model_from_file('ceu/ceu.obj')\n",
    "\n",
    "print('Processando modelo ceu.obj. Vertice inicial:',len(vertices_list))\n",
    "ini_ceu = len(vertices_list)\n",
    "for face in modelo['faces']:\n",
    "    for vertice_id in face[0]:\n",
    "        vertices_list.append( modelo['vertices'][vertice_id-1] )\n",
    "    for texture_id in face[1]:\n",
    "        textures_coord_list.append( modelo['texture'][texture_id-1] )\n",
    "print('Processando modelo ceu.obj. Vertice final:',len(vertices_list))\n",
    "fim_ceu = len(vertices_list)\n",
    "\n",
    "load_texture_from_file(19,'ceu/ceu.png')"
   ]
  },
  {
   "cell_type": "code",
   "execution_count": 195,
   "metadata": {
    "tags": []
   },
   "outputs": [
    {
     "name": "stdout",
     "output_type": "stream",
     "text": [
      "Processando modelo carro.obj. Vertice inicial: 1472427\n",
      "Processando modelo carro.obj. Vertice final: 1486629\n"
     ]
    }
   ],
   "source": [
    "modelo = load_model_from_file('carro/carro.obj')\n",
    "\n",
    "print('Processando modelo carro.obj. Vertice inicial:',len(vertices_list))\n",
    "ini_carro = len(vertices_list)\n",
    "for face in modelo['faces']:\n",
    "    for vertice_id in face[0]:\n",
    "        vertices_list.append( modelo['vertices'][vertice_id-1] )\n",
    "    for texture_id in face[1]:\n",
    "        textures_coord_list.append( modelo['texture'][texture_id-1] )\n",
    "print('Processando modelo carro.obj. Vertice final:',len(vertices_list))\n",
    "fim_carro = len(vertices_list)\n",
    "\n",
    "load_texture_from_file(20,'carro/carro.jpg')"
   ]
  },
  {
   "cell_type": "code",
   "execution_count": 196,
   "metadata": {},
   "outputs": [
    {
     "name": "stdout",
     "output_type": "stream",
     "text": [
      "Processando modelo cachorro.obj. Vertice inicial: 1486629\n",
      "Processando modelo cachorro.obj. Vertice final: 1702533\n"
     ]
    }
   ],
   "source": [
    "modelo = load_model_from_file('cachorro/cachorro.obj')\n",
    "\n",
    "print('Processando modelo cachorro.obj. Vertice inicial:',len(vertices_list))\n",
    "ini_cachorro = len(vertices_list)\n",
    "for face in modelo['faces']:\n",
    "    for vertice_id in face[0]:\n",
    "        vertices_list.append( modelo['vertices'][vertice_id-1] )\n",
    "    for texture_id in face[1]:\n",
    "        textures_coord_list.append( modelo['texture'][texture_id-1] )\n",
    "print('Processando modelo cachorro.obj. Vertice final:',len(vertices_list))\n",
    "fim_cachorro = len(vertices_list)\n",
    "\n",
    "load_texture_from_file(21,'cachorro/cachorro.jpg')"
   ]
  },
  {
   "cell_type": "code",
   "execution_count": 197,
   "metadata": {},
   "outputs": [
    {
     "name": "stdout",
     "output_type": "stream",
     "text": [
      "Processando modelo homem.obj. Vertice inicial: 1702533\n",
      "Processando modelo homem.obj. Vertice final: 1764159\n"
     ]
    }
   ],
   "source": [
    "modelo = load_model_from_file('homem/homem.obj')\n",
    "\n",
    "print('Processando modelo homem.obj. Vertice inicial:',len(vertices_list))\n",
    "ini_homem = len(vertices_list)\n",
    "for face in modelo['faces']:\n",
    "    for vertice_id in face[0]:\n",
    "        vertices_list.append( modelo['vertices'][vertice_id-1] )\n",
    "    for texture_id in face[1]:\n",
    "        textures_coord_list.append( modelo['texture'][texture_id-1] )\n",
    "print('Processando modelo homem.obj. Vertice final:',len(vertices_list))\n",
    "fim_homem = len(vertices_list)\n",
    "\n",
    "load_texture_from_file(22,'homem/homem.jpg')"
   ]
  },
  {
   "cell_type": "markdown",
   "metadata": {},
   "source": [
    "### Para enviar nossos dados da CPU para a GPU, precisamos requisitar slots.\n",
    "\n",
    "Nós agora vamos requisitar dois slots.\n",
    "* Um para enviar coordenadas dos vértices.\n",
    "* Outros para enviar coordenadas de texturas."
   ]
  },
  {
   "cell_type": "code",
   "execution_count": 198,
   "metadata": {},
   "outputs": [],
   "source": [
    "# Request a buffer slot from GPU\n",
    "buffer = glGenBuffers(2)\n"
   ]
  },
  {
   "cell_type": "markdown",
   "metadata": {},
   "source": [
    "###  Enviando coordenadas de vértices para a GPU"
   ]
  },
  {
   "cell_type": "code",
   "execution_count": 199,
   "metadata": {},
   "outputs": [],
   "source": [
    "vertices = np.zeros(len(vertices_list), [(\"position\", np.float32, 3)])\n",
    "vertices['position'] = vertices_list\n",
    "\n",
    "\n",
    "# Upload data\n",
    "glBindBuffer(GL_ARRAY_BUFFER, buffer[0])\n",
    "glBufferData(GL_ARRAY_BUFFER, vertices.nbytes, vertices, GL_STATIC_DRAW)\n",
    "stride = vertices.strides[0]\n",
    "offset = ctypes.c_void_p(0)\n",
    "loc_vertices = glGetAttribLocation(program, \"position\")\n",
    "glEnableVertexAttribArray(loc_vertices)\n",
    "glVertexAttribPointer(loc_vertices, 3, GL_FLOAT, False, stride, offset)\n"
   ]
  },
  {
   "cell_type": "markdown",
   "metadata": {},
   "source": [
    "###  Enviando coordenadas de textura para a GPU"
   ]
  },
  {
   "cell_type": "code",
   "execution_count": 200,
   "metadata": {},
   "outputs": [],
   "source": [
    "textures = np.zeros(len(textures_coord_list), [(\"position\", np.float32, 2)]) # duas coordenadas\n",
    "textures['position'] = textures_coord_list\n",
    "\n",
    "\n",
    "# Upload data\n",
    "glBindBuffer(GL_ARRAY_BUFFER, buffer[1])\n",
    "glBufferData(GL_ARRAY_BUFFER, textures.nbytes, textures, GL_STATIC_DRAW)\n",
    "stride = textures.strides[0]\n",
    "offset = ctypes.c_void_p(0)\n",
    "loc_texture_coord = glGetAttribLocation(program, \"texture_coord\")\n",
    "glEnableVertexAttribArray(loc_texture_coord)\n",
    "glVertexAttribPointer(loc_texture_coord, 2, GL_FLOAT, False, stride, offset)"
   ]
  },
  {
   "cell_type": "markdown",
   "metadata": {},
   "source": [
    "### Desenhando nossos modelos\n",
    "* Cada modelo tem um Model para posicioná-los no mundo.\n",
    "* É necessário saber qual a posição inicial e total de vértices de cada modelo\n",
    "* É necessário indicar qual o ID da textura do modelo\n"
   ]
  },
  {
   "cell_type": "code",
   "execution_count": 201,
   "metadata": {},
   "outputs": [],
   "source": [
    "def desenha_arvore(_tx, _ty, _tz):\n",
    "    \n",
    "    # rotacao\n",
    "    angle = 0.0;\n",
    "    rx = 0.0; ry = 0.0; rz = 1.0;\n",
    "    \n",
    "    # translacao\n",
    "    tx = _tx; ty = _ty; tz = _tz;\n",
    "    \n",
    "    # escala\n",
    "    sx = 3.0; sy = 3.0; sz = 3.0;\n",
    "    \n",
    "    mat_model = model(angle, rx, ry, rz, tx, ty, tz, sx, sy, sz)\n",
    "    loc_model = glGetUniformLocation(program, \"model\")\n",
    "    glUniformMatrix4fv(loc_model, 1, GL_TRUE, mat_model)\n",
    "       \n",
    "    glBindTexture(GL_TEXTURE_2D, 0)\n",
    "    \n",
    "    for i in range(0, len(arvore_text_id)):\n",
    "        glBindTexture(GL_TEXTURE_2D, arvore_text_id[i])\n",
    "        glDrawArrays(GL_TRIANGLES, arvore_vertices_text[i], arvore_vertices_text[i+1]-arvore_vertices_text[i])\n",
    "    "
   ]
  },
  {
   "cell_type": "code",
   "execution_count": 202,
   "metadata": {},
   "outputs": [],
   "source": [
    "def desenha_terreno():\n",
    "    \n",
    "    # rotacao\n",
    "    angle = 0.0;\n",
    "    rx = 0.0; ry = 0.0; rz = 1.0;\n",
    "    \n",
    "    # translacao\n",
    "    tx = 0.0; ty = -1.01; tz = 0.0;\n",
    "    \n",
    "    # escala\n",
    "    sx = 40.0; sy = 40.0; sz = 40.0;\n",
    "    \n",
    "    mat_model = model(angle, rx, ry, rz, tx, ty, tz, sx, sy, sz)\n",
    "    loc_model = glGetUniformLocation(program, \"model\")\n",
    "    glUniformMatrix4fv(loc_model, 1, GL_TRUE, mat_model)\n",
    "       \n",
    "    glBindTexture(GL_TEXTURE_2D, 1)\n",
    "    \n",
    "    glDrawArrays(GL_TRIANGLES, ini_pedra, fim_pedra-ini_pedra)\n",
    "    \n",
    "    glBindTexture(GL_TEXTURE_2D, 4)\n",
    "    \n",
    "    glDrawArrays(GL_TRIANGLES, ini_grama, fim_grama-ini_grama)\n",
    "    "
   ]
  },
  {
   "cell_type": "code",
   "execution_count": 203,
   "metadata": {},
   "outputs": [],
   "source": [
    "def desenha_sofa():\n",
    "    \n",
    "    # rotacao\n",
    "    angle = 270.0;\n",
    "    rx = 0.0; ry = 1.0; rz = 0.0;\n",
    "    \n",
    "    # translacao\n",
    "    tx = 18.5; ty = -0.9; tz = -5.0;\n",
    "    \n",
    "    # escala\n",
    "    sx = 0.6; sy = 0.6; sz = 0.6;\n",
    "    \n",
    "    mat_model = model(angle, rx, ry, rz, tx, ty, tz, sx, sy, sz)\n",
    "    loc_model = glGetUniformLocation(program, \"model\")\n",
    "    glUniformMatrix4fv(loc_model, 1, GL_TRUE, mat_model)\n",
    "       \n",
    "    glBindTexture(GL_TEXTURE_2D, 13)\n",
    "    \n",
    "    glDrawArrays(GL_TRIANGLES, ini_sofa, fim_sofa-ini_sofa)"
   ]
  },
  {
   "cell_type": "code",
   "execution_count": 204,
   "metadata": {},
   "outputs": [],
   "source": [
    "def desenha_casa():\n",
    "    \n",
    "    # rotacao\n",
    "    angle = 0.0;\n",
    "    rx = 0.0; ry = 0.0; rz = 1.0;\n",
    "    \n",
    "    # translacao\n",
    "    tx = -8.0; ty = -1.0; tz = 5.0;\n",
    "    \n",
    "    # escala\n",
    "    sx = 3.0; sy = 3.0; sz = 3.0;\n",
    "    \n",
    "    mat_model = model(angle, rx, ry, rz, tx, ty, tz, sx, sy, sz)\n",
    "    loc_model = glGetUniformLocation(program, \"model\")\n",
    "    glUniformMatrix4fv(loc_model, 1, GL_TRUE, mat_model)\n",
    "    \n",
    "    for i in range(0, len(text_id)):\n",
    "        glBindTexture(GL_TEXTURE_2D, text_id[i])\n",
    "        glDrawArrays(GL_TRIANGLES, vertices_text[i], vertices_text[i+1]-vertices_text[i])\n",
    "    "
   ]
  },
  {
   "cell_type": "code",
   "execution_count": 205,
   "metadata": {},
   "outputs": [],
   "source": [
    "def desenha_tv():\n",
    "    \n",
    "    # rotacao\n",
    "    angle = -270.0;\n",
    "    rx = 0.0; ry = 1.0; rz = 0.0;\n",
    "    \n",
    "    # translacao\n",
    "    tx = -3.5; ty = 1.1; tz = -4.5;\n",
    "    \n",
    "    # escala\n",
    "    sx = 0.6; sy = 0.6; sz = 0.6;\n",
    "    \n",
    "    mat_model = model(angle, rx, ry, rz, tx, ty, tz, sx, sy, sz)\n",
    "    loc_model = glGetUniformLocation(program, \"model\")\n",
    "    glUniformMatrix4fv(loc_model, 1, GL_TRUE, mat_model)\n",
    "       \n",
    "    glBindTexture(GL_TEXTURE_2D, 14)\n",
    "    \n",
    "    glDrawArrays(GL_TRIANGLES, ini_tv, fim_tv-ini_tv)"
   ]
  },
  {
   "cell_type": "code",
   "execution_count": 206,
   "metadata": {},
   "outputs": [],
   "source": [
    "def desenha_pato():\n",
    "    \n",
    "    # rotacao\n",
    "    angle = 0.0;\n",
    "    rx = -5.0; ry = 1.0; rz = 0.0;\n",
    "    \n",
    "    # translacao\n",
    "    tx = -20; ty = -1.0; tz = 9.0;\n",
    "    \n",
    "    # escala\n",
    "    sx = 0.3; sy = 0.3; sz = 0.3;\n",
    "    \n",
    "    mat_model = model(angle, rx, ry, rz, tx, ty, tz, sx, sy, sz)\n",
    "    loc_model = glGetUniformLocation(program, \"model\")\n",
    "    glUniformMatrix4fv(loc_model, 1, GL_TRUE, mat_model)\n",
    "       \n",
    "    glBindTexture(GL_TEXTURE_2D, 17)\n",
    "    \n",
    "    glDrawArrays(GL_TRIANGLES, ini_pato, fim_pato-ini_pato)"
   ]
  },
  {
   "cell_type": "code",
   "execution_count": 207,
   "metadata": {},
   "outputs": [],
   "source": [
    "def desenha_mesa():\n",
    "    \n",
    "    # rotacao\n",
    "    angle = 0.0;\n",
    "    rx = 0.0; ry = 1.0; rz = 0.0;\n",
    "    \n",
    "    # translacao\n",
    "    tx = -4.0; ty = -1.0; tz = -4.5;\n",
    "    \n",
    "    # escala\n",
    "    sx = 6.0; sy = 6.0; sz = 6.0;\n",
    "    \n",
    "    mat_model = model(angle, rx, ry, rz, tx, ty, tz, sx, sy, sz)\n",
    "    loc_model = glGetUniformLocation(program, \"model\")\n",
    "    glUniformMatrix4fv(loc_model, 1, GL_TRUE, mat_model)\n",
    "       \n",
    "    glBindTexture(GL_TEXTURE_2D, 18)\n",
    "    \n",
    "    glDrawArrays(GL_TRIANGLES, ini_mesa, fim_mesa-ini_mesa)"
   ]
  },
  {
   "cell_type": "code",
   "execution_count": 208,
   "metadata": {},
   "outputs": [],
   "source": [
    "def desenha_ceu():\n",
    "    \n",
    "    # rotacao\n",
    "    angle = 90.0;\n",
    "    rx = 90.0; ry = 1.0; rz = 90.0;\n",
    "    \n",
    "    # translacao\n",
    "    tx = 60.0; ty = -60.0; tz = -140.5;\n",
    "    \n",
    "    # escala\n",
    "    sx = 30.0; sy = 30.0; sz = 30.0;\n",
    "    \n",
    "    mat_model = model(angle, rx, ry, rz, tx, ty, tz, sx, sy, sz)\n",
    "    loc_model = glGetUniformLocation(program, \"model\")\n",
    "    glUniformMatrix4fv(loc_model, 1, GL_TRUE, mat_model)\n",
    "       \n",
    "    glBindTexture(GL_TEXTURE_2D, 19)\n",
    "    \n",
    "    glDrawArrays(GL_TRIANGLES, ini_ceu, fim_ceu-ini_ceu)"
   ]
  },
  {
   "cell_type": "code",
   "execution_count": 209,
   "metadata": {},
   "outputs": [],
   "source": [
    "def desenha_carro():\n",
    "    \n",
    "    # rotacao\n",
    "    angle = 0.0;\n",
    "    rx = 0.0; ry = 0.0; rz = 1.0;\n",
    "    \n",
    "    # translacao\n",
    "    tx = -20; ty = -1.0; tz = -5.0;\n",
    "    \n",
    "    # escala\n",
    "    sx = 4.0; sy = 4.0; sz = 4.0;\n",
    "    \n",
    "    mat_model = model(angle, rx, ry, rz, tx, ty, tz, sx, sy, sz)\n",
    "    loc_model = glGetUniformLocation(program, \"model\")\n",
    "    glUniformMatrix4fv(loc_model, 1, GL_TRUE, mat_model)\n",
    "\n",
    "    glBindTexture(GL_TEXTURE_2D, 20)\n",
    "    \n",
    "    glDrawArrays(GL_TRIANGLES, ini_carro, fim_carro-ini_carro)"
   ]
  },
  {
   "cell_type": "code",
   "execution_count": 210,
   "metadata": {},
   "outputs": [],
   "source": [
    "def desenha_cachorro():\n",
    "    \n",
    "    # rotacao\n",
    "    angle = 0.0;\n",
    "    rx = -5.0; ry = 1.0; rz = 0.0;\n",
    "    \n",
    "    # translacao\n",
    "    tx = 25; ty = -1.0; tz = 9.0;\n",
    "    \n",
    "    # escala\n",
    "    sx = 0.15; sy = 0.15; sz = 0.15;\n",
    "    \n",
    "    mat_model = model(angle, rx, ry, rz, tx, ty, tz, sx, sy, sz)\n",
    "    loc_model = glGetUniformLocation(program, \"model\")\n",
    "    glUniformMatrix4fv(loc_model, 1, GL_TRUE, mat_model)\n",
    "       \n",
    "    glBindTexture(GL_TEXTURE_2D, 21)\n",
    "    \n",
    "    glDrawArrays(GL_TRIANGLES, ini_cachorro, fim_cachorro-ini_cachorro)"
   ]
  },
  {
   "cell_type": "code",
   "execution_count": 211,
   "metadata": {},
   "outputs": [],
   "source": [
    "def desenha_homem():\n",
    "    \n",
    "    # rotacao\n",
    "    angle = 0.0;\n",
    "    rx = 0.0; ry = 1.0; rz = 0.0;\n",
    "    \n",
    "    # translacao\n",
    "    tx = 15.5; ty = -1.0; tz = -15.0;\n",
    "    \n",
    "    # escala\n",
    "    sx = 0.4; sy = 0.4; sz = 0.4;\n",
    "    \n",
    "    mat_model = model(angle, rx, ry, rz, tx, ty, tz, sx, sy, sz)\n",
    "    loc_model = glGetUniformLocation(program, \"model\")\n",
    "    glUniformMatrix4fv(loc_model, 1, GL_TRUE, mat_model)\n",
    "       \n",
    "    glBindTexture(GL_TEXTURE_2D, 22)\n",
    "    \n",
    "    glDrawArrays(GL_TRIANGLES, ini_homem, fim_homem-ini_homem)"
   ]
  },
  {
   "cell_type": "markdown",
   "metadata": {},
   "source": [
    "### Eventos para modificar a posição da câmera.\n",
    "\n",
    "* Usei as teclas A, S, D e W para movimentação no espaço tridimensional\n",
    "* Usei a posição do mouse para \"direcionar\" a câmera"
   ]
  },
  {
   "cell_type": "code",
   "execution_count": 212,
   "metadata": {},
   "outputs": [],
   "source": [
    "cameraPos   = glm.vec3(0.0,  0.0,  1.0);\n",
    "cameraFront = glm.vec3(0.0,  0.0, -1.0);\n",
    "cameraUp    = glm.vec3(0.0,  1.0,  0.0);\n",
    "\n",
    "\n",
    "polygonal_mode = False\n",
    "\n",
    "def key_event(window,key,scancode,action,mods):\n",
    "    global cameraPos, cameraFront, cameraUp, polygonal_mode\n",
    "    \n",
    "    cameraSpeed = 2.5\n",
    "    if key == 87 and (action==1 or action==2): # tecla W\n",
    "        cameraPos += cameraSpeed * cameraFront\n",
    "    \n",
    "    if key == 83 and (action==1 or action==2): # tecla S\n",
    "        cameraPos -= cameraSpeed * cameraFront\n",
    "    \n",
    "    if key == 65 and (action==1 or action==2): # tecla A\n",
    "        cameraPos -= glm.normalize(glm.cross(cameraFront, cameraUp)) * cameraSpeed\n",
    "        \n",
    "    if key == 68 and (action==1 or action==2): # tecla D\n",
    "        cameraPos += glm.normalize(glm.cross(cameraFront, cameraUp)) * cameraSpeed\n",
    "        \n",
    "    if key == 80 and action==1 and polygonal_mode==True:\n",
    "        polygonal_mode=False\n",
    "    else:\n",
    "        if key == 80 and action==1 and polygonal_mode==False:\n",
    "            polygonal_mode=True\n",
    "        \n",
    "        \n",
    "        \n",
    "firstMouse = True\n",
    "yaw = -90.0 \n",
    "pitch = 0.0\n",
    "lastX =  largura/2\n",
    "lastY =  altura/2\n",
    "\n",
    "def mouse_event(window, xpos, ypos):\n",
    "    global firstMouse, cameraFront, yaw, pitch, lastX, lastY\n",
    "    if firstMouse:\n",
    "        lastX = xpos\n",
    "        lastY = ypos\n",
    "        firstMouse = False\n",
    "\n",
    "    xoffset = xpos - lastX\n",
    "    yoffset = lastY - ypos\n",
    "    lastX = xpos\n",
    "    lastY = ypos\n",
    "\n",
    "    sensitivity = 0.3\n",
    "    xoffset *= sensitivity\n",
    "    yoffset *= sensitivity\n",
    "\n",
    "    yaw += xoffset;\n",
    "    pitch += yoffset;\n",
    "\n",
    "    \n",
    "    if pitch >= 90.0: pitch = 90.0\n",
    "    if pitch <= -90.0: pitch = -90.0\n",
    "\n",
    "    front = glm.vec3()\n",
    "    front.x = math.cos(glm.radians(yaw)) * math.cos(glm.radians(pitch))\n",
    "    front.y = math.sin(glm.radians(pitch))\n",
    "    front.z = math.sin(glm.radians(yaw)) * math.cos(glm.radians(pitch))\n",
    "    cameraFront = glm.normalize(front)\n",
    "\n",
    "\n",
    "    \n",
    "glfw.set_key_callback(window,key_event)\n",
    "glfw.set_cursor_pos_callback(window, mouse_event)\n"
   ]
  },
  {
   "cell_type": "markdown",
   "metadata": {},
   "source": [
    "### Matrizes Model, View e Projection\n",
    "\n",
    "Teremos uma aula específica para entender o seu funcionamento."
   ]
  },
  {
   "cell_type": "code",
   "execution_count": 213,
   "metadata": {},
   "outputs": [],
   "source": [
    "def model(angle, r_x, r_y, r_z, t_x, t_y, t_z, s_x, s_y, s_z):\n",
    "    \n",
    "    angle = math.radians(angle)\n",
    "    \n",
    "    matrix_transform = glm.mat4(1.0) # instanciando uma matriz identidade\n",
    "\n",
    "    \n",
    "    # aplicando translacao\n",
    "    matrix_transform = glm.translate(matrix_transform, glm.vec3(t_x, t_y, t_z))    \n",
    "    \n",
    "    # aplicando rotacao\n",
    "    matrix_transform = glm.rotate(matrix_transform, angle, glm.vec3(r_x, r_y, r_z))\n",
    "    \n",
    "    # aplicando escala\n",
    "    matrix_transform = glm.scale(matrix_transform, glm.vec3(s_x, s_y, s_z))\n",
    "    \n",
    "    matrix_transform = np.array(matrix_transform).T # pegando a transposta da matriz (glm trabalha com ela invertida)\n",
    "    \n",
    "    return matrix_transform\n",
    "\n",
    "def view():\n",
    "    global cameraPos, cameraFront, cameraUp\n",
    "    mat_view = glm.lookAt(cameraPos, cameraPos + cameraFront, cameraUp);\n",
    "    mat_view = np.array(mat_view)\n",
    "    return mat_view\n",
    "\n",
    "def projection():\n",
    "    global altura, largura\n",
    "    # perspective parameters: fovy, aspect, near, far\n",
    "    mat_projection = glm.perspective(glm.radians(45.0), largura/altura, 0.1, 1000.0)\n",
    "    mat_projection = np.array(mat_projection)    \n",
    "    return mat_projection"
   ]
  },
  {
   "cell_type": "markdown",
   "metadata": {},
   "source": [
    "### Nesse momento, nós exibimos a janela!\n"
   ]
  },
  {
   "cell_type": "code",
   "execution_count": 214,
   "metadata": {},
   "outputs": [],
   "source": [
    "glfw.show_window(window)\n",
    "glfw.set_cursor_pos(window, lastX, lastY)"
   ]
  },
  {
   "cell_type": "markdown",
   "metadata": {},
   "source": [
    "### Loop principal da janela.\n",
    "Enquanto a janela não for fechada, esse laço será executado. É neste espaço que trabalhamos com algumas interações com a OpenGL."
   ]
  },
  {
   "cell_type": "code",
   "execution_count": 215,
   "metadata": {},
   "outputs": [],
   "source": [
    "glEnable(GL_DEPTH_TEST) ### importante para 3D\n",
    "   \n",
    "\n",
    "rotacao_inc = 0\n",
    "while not glfw.window_should_close(window):\n",
    "\n",
    "    glfw.poll_events() \n",
    "    \n",
    "    glClear(GL_COLOR_BUFFER_BIT | GL_DEPTH_BUFFER_BIT)\n",
    "    \n",
    "    glClearColor(1.0, 1.0, 1.0, 1.0)\n",
    "    \n",
    "    if polygonal_mode==True:\n",
    "        glPolygonMode(GL_FRONT_AND_BACK,GL_LINE)\n",
    "    if polygonal_mode==False:\n",
    "        glPolygonMode(GL_FRONT_AND_BACK,GL_FILL)\n",
    "    \n",
    "    desenha_arvore(30.0, -1.0, 30.0)\n",
    "    desenha_arvore(-30.0, -1.0, 30.0)   \n",
    "    desenha_terreno()\n",
    "    desenha_casa()\n",
    "    desenha_sofa()\n",
    "    desenha_tv()\n",
    "    desenha_pato()\n",
    "    desenha_mesa()\n",
    "    desenha_ceu()\n",
    "    desenha_carro()\n",
    "    desenha_cachorro()\n",
    "    desenha_homem()\n",
    "    \n",
    "    mat_view = view()\n",
    "    loc_view = glGetUniformLocation(program, \"view\")\n",
    "    glUniformMatrix4fv(loc_view, 1, GL_FALSE, mat_view)\n",
    "\n",
    "    mat_projection = projection()\n",
    "    loc_projection = glGetUniformLocation(program, \"projection\")\n",
    "    glUniformMatrix4fv(loc_projection, 1, GL_FALSE, mat_projection)    \n",
    "\n",
    "    \n",
    "    glfw.swap_buffers(window)\n",
    "\n",
    "glfw.terminate()"
   ]
  }
 ],
 "metadata": {
  "finalized": {
   "timestamp": 1589232864147,
   "trusted": true
  },
  "interpreter": {
   "hash": "31f2aee4e71d21fbe5cf8b01ff0e069b9275f58929596ceb00d14d90e3e16cd6"
  },
  "kernelspec": {
   "display_name": "Python 3.8.5 64-bit",
   "name": "python3"
  },
  "language_info": {
   "codemirror_mode": {
    "name": "ipython",
    "version": 3
   },
   "file_extension": ".py",
   "mimetype": "text/x-python",
   "name": "python",
   "nbconvert_exporter": "python",
   "pygments_lexer": "ipython3",
   "version": "3.8.10"
  }
 },
 "nbformat": 4,
 "nbformat_minor": 2
}