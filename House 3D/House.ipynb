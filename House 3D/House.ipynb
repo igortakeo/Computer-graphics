{
 "cells": [
  {
   "cell_type": "markdown",
   "metadata": {},
   "source": [
    "# House 3D"
   ]
  },
  {
   "cell_type": "markdown",
   "metadata": {},
   "source": [
    "Comandos disponíveis: ???"
   ]
  },
  {
   "cell_type": "code",
   "execution_count": 106,
   "metadata": {},
   "outputs": [],
   "source": [
    "import glfw\n",
    "from OpenGL.GL import *\n",
    "import numpy as np\n",
    "import glm\n",
    "import math\n",
    "from PIL import Image"
   ]
  },
  {
   "cell_type": "markdown",
   "metadata": {},
   "source": [
    "### Inicializando janela"
   ]
  },
  {
   "cell_type": "code",
   "execution_count": 107,
   "metadata": {},
   "outputs": [],
   "source": [
    "glfw.init()\n",
    "glfw.window_hint(glfw.VISIBLE, glfw.FALSE);\n",
    "altura = 768\n",
    "largura = 1366\n",
    "qtd_texturas = 30\n",
    "prox_textura = 1\n",
    "window = glfw.create_window(largura, altura, \"House\", None, None)\n",
    "glfw.make_context_current(window)"
   ]
  },
  {
   "cell_type": "markdown",
   "metadata": {},
   "source": [
    "### GLSL (OpenGL Shading Language)\n",
    "\n",
    "Aqui veremos nosso primeiro código GLSL.\n",
    "\n",
    "É uma linguagem de shading de alto nível baseada na linguagem de programação C.\n",
    "\n",
    "Nós estamos escrevendo código GLSL como se \"strings\" de uma variável (mas podemos ler de arquivos texto). Esse código, depois, terá que ser compilado e linkado ao nosso programa. \n",
    "\n",
    "Iremos aprender GLSL conforme a necessidade do curso. Usarmos uma versão do GLSL mais antiga, compatível com muitos dispositivos."
   ]
  },
  {
   "cell_type": "markdown",
   "metadata": {},
   "source": [
    "### GLSL para Vertex Shader\n",
    "\n",
    "No Pipeline programável, podemos interagir com Vertex Shaders.\n",
    "\n",
    "No código abaixo, estamos fazendo o seguinte:\n",
    "\n",
    "* Definindo uma variável chamada position do tipo vec3.\n",
    "* Definindo matrizes Model, View e Projection que acumulam transformações geométricas 3D e permitem navegação no cenário.\n",
    "* void main() é o ponto de entrada do nosso programa (função principal)\n",
    "* gl_Position é uma variável especial do GLSL. Variáveis que começam com 'gl_' são desse tipo. Nesse caso, determina a posição de um vértice. Observe que todo vértice tem 4 coordenadas, por isso nós combinamos nossa variável vec2 com uma variável vec4. Além disso, nós modificamos nosso vetor com base nas transformações Model, View e Projection."
   ]
  },
  {
   "cell_type": "code",
   "execution_count": 108,
   "metadata": {},
   "outputs": [],
   "source": [
    "vertex_code = \"\"\"\n",
    "        attribute vec3 position;\n",
    "        attribute vec2 texture_coord;\n",
    "        varying vec2 out_texture;\n",
    "                \n",
    "        uniform mat4 model;\n",
    "        uniform mat4 view;\n",
    "        uniform mat4 projection;        \n",
    "        \n",
    "        void main(){\n",
    "            gl_Position = projection * view * model * vec4(position,1.0);\n",
    "            out_texture = vec2(texture_coord);\n",
    "        }\n",
    "        \"\"\""
   ]
  },
  {
   "cell_type": "markdown",
   "metadata": {},
   "source": [
    "### GLSL para Fragment Shader\n",
    "\n",
    "No Pipeline programável, podemos interagir com Fragment Shaders.\n",
    "\n",
    "No código abaixo, estamos fazendo o seguinte:\n",
    "\n",
    "* void main() é o ponto de entrada do nosso programa (função principal)\n",
    "* gl_FragColor é uma variável especial do GLSL. Variáveis que começam com 'gl_' são desse tipo. Nesse caso, determina a cor de um fragmento. Nesse caso é um ponto, mas poderia ser outro objeto (ponto, linha, triangulos, etc)."
   ]
  },
  {
   "cell_type": "markdown",
   "metadata": {},
   "source": [
    "### Possibilitando modificar a cor.\n",
    "\n",
    "Nos exemplos anteriores, a variável gl_FragColor estava definida de forma fixa (com cor R=0, G=0, B=0).\n",
    "\n",
    "Agora, nós vamos criar uma variável do tipo \"uniform\", de quatro posições (vec4), para receber o dado de cor do nosso programa rodando em CPU."
   ]
  },
  {
   "cell_type": "code",
   "execution_count": 109,
   "metadata": {},
   "outputs": [],
   "source": [
    "fragment_code = \"\"\"\n",
    "        uniform vec4 color;\n",
    "        varying vec2 out_texture;\n",
    "        uniform sampler2D samplerTexture;\n",
    "        \n",
    "        void main(){\n",
    "            vec4 texture = texture2D(samplerTexture, out_texture);\n",
    "            gl_FragColor = texture;\n",
    "        }\n",
    "        \"\"\""
   ]
  },
  {
   "cell_type": "markdown",
   "metadata": {},
   "source": [
    "### Requisitando slot para a GPU para nossos programas Vertex e Fragment Shaders"
   ]
  },
  {
   "cell_type": "code",
   "execution_count": 110,
   "metadata": {},
   "outputs": [],
   "source": [
    "# Request a program and shader slots from GPU\n",
    "program  = glCreateProgram()\n",
    "vertex   = glCreateShader(GL_VERTEX_SHADER)\n",
    "fragment = glCreateShader(GL_FRAGMENT_SHADER)"
   ]
  },
  {
   "cell_type": "markdown",
   "metadata": {},
   "source": [
    "### Associando nosso código-fonte aos slots solicitados"
   ]
  },
  {
   "cell_type": "code",
   "execution_count": 111,
   "metadata": {},
   "outputs": [],
   "source": [
    "# Set shaders source\n",
    "glShaderSource(vertex, vertex_code)\n",
    "glShaderSource(fragment, fragment_code)"
   ]
  },
  {
   "cell_type": "markdown",
   "metadata": {},
   "source": [
    "### Compilando o Vertex Shader\n",
    "\n",
    "Se há algum erro em nosso programa Vertex Shader, nosso app para por aqui."
   ]
  },
  {
   "cell_type": "code",
   "execution_count": 112,
   "metadata": {},
   "outputs": [],
   "source": [
    "# Compile shaders\n",
    "glCompileShader(vertex)\n",
    "if not glGetShaderiv(vertex, GL_COMPILE_STATUS):\n",
    "    error = glGetShaderInfoLog(vertex).decode()\n",
    "    print(error)\n",
    "    raise RuntimeError(\"Erro de compilacao do Vertex Shader\")"
   ]
  },
  {
   "cell_type": "markdown",
   "metadata": {},
   "source": [
    "### Compilando o Fragment Shader\n",
    "\n",
    "Se há algum erro em nosso programa Fragment Shader, nosso app para por aqui."
   ]
  },
  {
   "cell_type": "code",
   "execution_count": 113,
   "metadata": {},
   "outputs": [],
   "source": [
    "glCompileShader(fragment)\n",
    "if not glGetShaderiv(fragment, GL_COMPILE_STATUS):\n",
    "    error = glGetShaderInfoLog(fragment).decode()\n",
    "    print(error)\n",
    "    raise RuntimeError(\"Erro de compilacao do Fragment Shader\")"
   ]
  },
  {
   "cell_type": "markdown",
   "metadata": {},
   "source": [
    "### Associando os programas compilado ao programa principal"
   ]
  },
  {
   "cell_type": "code",
   "execution_count": 114,
   "metadata": {},
   "outputs": [],
   "source": [
    "# Attach shader objects to the program\n",
    "glAttachShader(program, vertex)\n",
    "glAttachShader(program, fragment)"
   ]
  },
  {
   "cell_type": "markdown",
   "metadata": {},
   "source": [
    "### Linkagem do programa"
   ]
  },
  {
   "cell_type": "code",
   "execution_count": 115,
   "metadata": {},
   "outputs": [],
   "source": [
    "# Build program\n",
    "glLinkProgram(program)\n",
    "if not glGetProgramiv(program, GL_LINK_STATUS):\n",
    "    print(glGetProgramInfoLog(program))\n",
    "    raise RuntimeError('Linking error')\n",
    "    \n",
    "# Make program the default program\n",
    "glUseProgram(program)"
   ]
  },
  {
   "cell_type": "markdown",
   "metadata": {},
   "source": [
    "### Preparando dados para enviar a GPU\n",
    "\n",
    "Nesse momento, nós compilamos nossos Vertex e Program Shaders para que a GPU possa processá-los.\n",
    "\n",
    "Por outro lado, as informações de vértices geralmente estão na CPU e devem ser transmitidas para a GPU.\n"
   ]
  },
  {
   "cell_type": "markdown",
   "metadata": {},
   "source": [
    "### Carregando Modelos (vértices e texturas) a partir de Arquivos\n",
    "\n",
    "A função abaixo carrega modelos a partir de arquivos no formato WaveFront.\n",
    "\n",
    "\n",
    "Para saber mais sobre o modelo, acesse: https://en.wikipedia.org/wiki/Wavefront_.obj_file\n",
    "\n",
    "\n",
    "Nos slides e vídeo-aula da Aula 11 - Parte 1, nós descrevemos o funcionamento desse formato."
   ]
  },
  {
   "cell_type": "code",
   "execution_count": 116,
   "metadata": {},
   "outputs": [],
   "source": [
    "def load_model_from_file(filename):\n",
    "    \"\"\"Loads a Wavefront OBJ file. \"\"\"\n",
    "    filepath = 'Objects/' + filename\n",
    "    vertices = []\n",
    "    texture_coords = []\n",
    "    faces = []\n",
    "\n",
    "    material = None\n",
    "\n",
    "    # abre o arquivo obj para leitura\n",
    "    for line in open(filepath, \"r\"): ## para cada linha do arquivo .obj\n",
    "        if line.startswith('#'): continue ## ignora comentarios\n",
    "        values = line.split() # quebra a linha por espaço\n",
    "        if not values: continue\n",
    "\n",
    "\n",
    "        ### recuperando vertices\n",
    "        if values[0] == 'v':\n",
    "            vertices.append(values[1:4])\n",
    "\n",
    "\n",
    "        ### recuperando coordenadas de textura\n",
    "        elif values[0] == 'vt':\n",
    "            texture_coords.append(values[1:3])\n",
    "\n",
    "        ### recuperando faces \n",
    "        elif values[0] in ('usemtl', 'usemat'):\n",
    "            material = values[1]\n",
    "        elif values[0] == 'f':\n",
    "            face = []\n",
    "            face_texture = []\n",
    "            for v in values[1:]:\n",
    "                w = v.split('/')\n",
    "                face.append(int(w[0]))\n",
    "                if len(w) >= 2 and len(w[1]) > 0:\n",
    "                    face_texture.append(int(w[1]))\n",
    "                else:\n",
    "                    face_texture.append(0)\n",
    "\n",
    "            faces.append((face, face_texture, material))\n",
    "\n",
    "    model = {}\n",
    "    model['vertices'] = vertices\n",
    "    model['texture'] = texture_coords\n",
    "    model['faces'] = faces\n",
    "\n",
    "    return model"
   ]
  },
  {
   "cell_type": "code",
   "execution_count": 117,
   "metadata": {},
   "outputs": [],
   "source": [
    "glEnable(GL_TEXTURE_2D)\n",
    "textures = glGenTextures(qtd_texturas)\n",
    "\n",
    "def load_texture_from_file(texture_id, img_textura):\n",
    "    texturepath = 'Objects/' + img_textura\n",
    "    glBindTexture(GL_TEXTURE_2D, texture_id)\n",
    "    glTexParameteri(GL_TEXTURE_2D, GL_TEXTURE_WRAP_S, GL_REPEAT)\n",
    "    glTexParameteri(GL_TEXTURE_2D, GL_TEXTURE_WRAP_T, GL_REPEAT)\n",
    "    glTexParameteri(GL_TEXTURE_2D, GL_TEXTURE_MIN_FILTER, GL_LINEAR)\n",
    "    glTexParameteri(GL_TEXTURE_2D, GL_TEXTURE_MAG_FILTER, GL_LINEAR)\n",
    "    img = Image.open(texturepath)\n",
    "    img_width = img.size[0]\n",
    "    img_height = img.size[1]\n",
    "    image_data = img.tobytes(\"raw\", \"RGB\", 0, -1)\n",
    "    glTexImage2D(GL_TEXTURE_2D, 0, GL_RGB, img_width, img_height, 0, GL_RGB, GL_UNSIGNED_BYTE, image_data)"
   ]
  },
  {
   "cell_type": "markdown",
   "metadata": {},
   "source": [
    "### A lista abaixo armazena todos os vertices carregados dos arquivos"
   ]
  },
  {
   "cell_type": "code",
   "execution_count": 118,
   "metadata": {},
   "outputs": [],
   "source": [
    "vertices_list = []    \n",
    "textures_coord_list = []"
   ]
  },
  {
   "cell_type": "markdown",
   "metadata": {},
   "source": [
    "Esta função adiciona a textura na lista recebida como parâmetro e aumenta o valor do id da textura"
   ]
  },
  {
   "cell_type": "code",
   "execution_count": 119,
   "metadata": {},
   "outputs": [],
   "source": [
    "def increase_text(text_id):\n",
    "    global prox_textura\n",
    "    text_id.append(prox_textura)\n",
    "    prox_textura += 1"
   ]
  },
  {
   "cell_type": "markdown",
   "metadata": {},
   "source": [
    "### Vamos carregar cada modelo e definir funções para desenhá-los"
   ]
  },
  {
   "cell_type": "code",
   "execution_count": 120,
   "metadata": {},
   "outputs": [
    {
     "name": "stdout",
     "output_type": "stream",
     "text": [
      "Processando modelo piso.obj. Vertice inicial: 0\n",
      "Processando modelo piso.obj. Vertice final: 6\n"
     ]
    }
   ],
   "source": [
    "modelo = load_model_from_file('terreno/pedra.obj')\n",
    "\n",
    "print('Processando modelo piso.obj. Vertice inicial:',len(vertices_list))\n",
    "pedra_text_id = []\n",
    "pedra_vertices_text = []\n",
    "ini_pedra = len(vertices_list)\n",
    "for face in modelo['faces']:\n",
    "    for vertice_id in face[0]:\n",
    "        vertices_list.append( modelo['vertices'][vertice_id-1] )\n",
    "    for texture_id in face[1]:\n",
    "        textures_coord_list.append( modelo['texture'][texture_id-1] )\n",
    "print('Processando modelo piso.obj. Vertice final:',len(vertices_list))\n",
    "fim_pedra = len(vertices_list)\n",
    "\n",
    "pedra_vertices_text.append(ini_pedra)\n",
    "pedra_vertices_text.append(fim_pedra)\n",
    "\n",
    "load_texture_from_file(prox_textura,'terreno/piso.jpg')\n",
    "increase_text(pedra_text_id)"
   ]
  },
  {
   "cell_type": "code",
   "execution_count": 121,
   "metadata": {},
   "outputs": [
    {
     "name": "stdout",
     "output_type": "stream",
     "text": [
      "Processando modelo grama.obj. Vertice inicial: 6\n",
      "Processando modelo grama.obj. Vertice final: 12\n"
     ]
    }
   ],
   "source": [
    "modelo = load_model_from_file('terreno/grama.obj')\n",
    "\n",
    "print('Processando modelo grama.obj. Vertice inicial:',len(vertices_list))\n",
    "grama_text_id = []\n",
    "grama_vertices_text = []\n",
    "ini_grama = len(vertices_list)\n",
    "for face in modelo['faces']:\n",
    "    for vertice_id in face[0]:\n",
    "        vertices_list.append( modelo['vertices'][vertice_id-1] )\n",
    "    for texture_id in face[1]:\n",
    "        textures_coord_list.append( modelo['texture'][texture_id-1] )\n",
    "print('Processando modelo grama.obj. Vertice final:',len(vertices_list))\n",
    "fim_grama = len(vertices_list)\n",
    "\n",
    "grama_vertices_text.append(ini_grama)\n",
    "grama_vertices_text.append(fim_grama)\n",
    "\n",
    "load_texture_from_file(prox_textura,'terreno/grama.jpg')\n",
    "increase_text(grama_text_id)"
   ]
  },
  {
   "cell_type": "code",
   "execution_count": 122,
   "metadata": {
    "scrolled": false,
    "tags": []
   },
   "outputs": [
    {
     "name": "stdout",
     "output_type": "stream",
     "text": [
      "Processando modelo casa.obj. Vertice inicial: 12\n",
      "metal_dark_brown vertice inicial:  12\n",
      "metal_grey vertice inicial:  469578\n",
      "wood_brown vertice inicial:  571176\n",
      "plaster_light_brown vertice inicial:  580644\n",
      "plaster_sand vertice inicial:  582819\n",
      "plate_grey vertice inicial:  583779\n",
      "wood_balls_brown vertice inicial:  583809\n",
      "foundation_brown_brick vertice inicial:  584145\n",
      "glass_window vertice inicial:  585381\n",
      "Processando modelo casa.obj. Vertice final: 585477\n"
     ]
    }
   ],
   "source": [
    "modelo = load_model_from_file('casa/casa.obj')\n",
    "\n",
    "print('Processando modelo casa.obj. Vertice inicial:',len(vertices_list))\n",
    "casa_vertices_text = []\n",
    "faces_visited = []\n",
    "casa_text_id = []\n",
    "ini_casa = len(vertices_list)\n",
    "for face in modelo['faces']:\n",
    "    if face[2] not in faces_visited:\n",
    "        print(face[2], 'vertice inicial: ', len(vertices_list))\n",
    "        faces_visited.append(face[2])\n",
    "        casa_vertices_text.append(len(vertices_list))\n",
    "    for vertice_id in face[0]:\n",
    "        vertices_list.append( modelo['vertices'][vertice_id-1] )\n",
    "    for texture_id in face[1]:\n",
    "        textures_coord_list.append( modelo['texture'][texture_id-1] )\n",
    "print('Processando modelo casa.obj. Vertice final:',len(vertices_list))\n",
    "fim_casa = len(vertices_list)\n",
    "    \n",
    "casa_vertices_text.append(fim_casa)\n",
    "\n",
    "load_texture_from_file(prox_textura,'casa/metal_dark_brown.jpg')\n",
    "increase_text(casa_text_id)\n",
    "load_texture_from_file(prox_textura,'casa/metal_grey.jpg')\n",
    "increase_text(casa_text_id)\n",
    "load_texture_from_file(prox_textura,'casa/wood_brown.jpg')\n",
    "increase_text(casa_text_id)\n",
    "load_texture_from_file(prox_textura,'casa/plaster_light_brown.jpg')\n",
    "increase_text(casa_text_id)\n",
    "load_texture_from_file(prox_textura,'casa/plaster_sand.jpg')\n",
    "increase_text(casa_text_id)\n",
    "load_texture_from_file(prox_textura,'casa/plate_grey.jpg')\n",
    "increase_text(casa_text_id)\n",
    "load_texture_from_file(prox_textura,'casa/wood_balls_brown.jpg')\n",
    "increase_text(casa_text_id)\n",
    "load_texture_from_file(prox_textura,'casa/foundation_brown_brick.jpg')\n",
    "increase_text(casa_text_id)\n",
    "load_texture_from_file(prox_textura,'casa/glass_window.jpg')\n",
    "increase_text(casa_text_id)"
   ]
  },
  {
   "cell_type": "code",
   "execution_count": 123,
   "metadata": {
    "scrolled": true
   },
   "outputs": [
    {
     "name": "stdout",
     "output_type": "stream",
     "text": [
      "Processando modelo sofa.obj. Vertice inicial: 585477\n",
      "Processando modelo sofa.obj. Vertice final: 590289\n"
     ]
    }
   ],
   "source": [
    "modelo = load_model_from_file('sofa/sofa.obj')\n",
    "\n",
    "print('Processando modelo sofa.obj. Vertice inicial:',len(vertices_list))\n",
    "sofa_text_id = []\n",
    "sofa_vertices_text = []\n",
    "ini_sofa = len(vertices_list)\n",
    "for face in modelo['faces']:\n",
    "    for vertice_id in face[0]:\n",
    "        vertices_list.append( modelo['vertices'][vertice_id-1] )\n",
    "    for texture_id in face[1]:\n",
    "        textures_coord_list.append( modelo['texture'][texture_id-1] )\n",
    "print('Processando modelo sofa.obj. Vertice final:',len(vertices_list))\n",
    "fim_sofa = len(vertices_list)\n",
    "\n",
    "sofa_vertices_text.append(ini_sofa)\n",
    "sofa_vertices_text.append(fim_sofa)\n",
    "\n",
    "load_texture_from_file(prox_textura,'sofa/sofa.jpg')\n",
    "increase_text(sofa_text_id)"
   ]
  },
  {
   "cell_type": "code",
   "execution_count": 124,
   "metadata": {},
   "outputs": [
    {
     "name": "stdout",
     "output_type": "stream",
     "text": [
      "Processando modelo tv.obj. Vertice inicial: 590289\n",
      "Processando modelo tv.obj. Vertice final: 1263057\n"
     ]
    }
   ],
   "source": [
    "modelo = load_model_from_file('tv/tv.obj')\n",
    "\n",
    "print('Processando modelo tv.obj. Vertice inicial:',len(vertices_list))\n",
    "tv_text_id = []\n",
    "tv_vertices_text = []\n",
    "ini_tv = len(vertices_list)\n",
    "for face in modelo['faces']:\n",
    "    for vertice_id in face[0]:\n",
    "        vertices_list.append( modelo['vertices'][vertice_id-1] )\n",
    "    for texture_id in face[1]:\n",
    "        textures_coord_list.append( modelo['texture'][texture_id-1] )\n",
    "print('Processando modelo tv.obj. Vertice final:',len(vertices_list))\n",
    "fim_tv = len(vertices_list)\n",
    "\n",
    "tv_vertices_text.append(ini_tv)\n",
    "tv_vertices_text.append(fim_tv)\n",
    "\n",
    "load_texture_from_file(prox_textura,'tv/tv.png')\n",
    "increase_text(tv_text_id)"
   ]
  },
  {
   "cell_type": "code",
   "execution_count": 125,
   "metadata": {},
   "outputs": [
    {
     "name": "stdout",
     "output_type": "stream",
     "text": [
      "Processando modelo arvore-1.obj. Vertice inicial: 1263057\n",
      "Materiais.001 vertice inicial:  1263057\n",
      "Materiais vertice inicial:  1350753\n",
      "Processando modelo arvore.obj. Vertice final: 1408281\n"
     ]
    }
   ],
   "source": [
    "modelo = load_model_from_file('arvore/arvore-1.obj')\n",
    "\n",
    "print('Processando modelo arvore-1.obj. Vertice inicial:',len(vertices_list))\n",
    "ini_arvore1 = len(vertices_list)\n",
    "arvore1_vertices_text = []\n",
    "arvore1_text_id = []\n",
    "faces_visited = []\n",
    "for face in modelo['faces']:\n",
    "    if face[2] not in faces_visited:\n",
    "        print(face[2], 'vertice inicial: ', len(vertices_list))\n",
    "        faces_visited.append(face[2])\n",
    "        arvore1_vertices_text.append(len(vertices_list))\n",
    "    for vertice_id in face[0]:\n",
    "        vertices_list.append( modelo['vertices'][vertice_id-1] )\n",
    "    for texture_id in face[1]:\n",
    "        textures_coord_list.append( modelo['texture'][texture_id-1] )\n",
    "print('Processando modelo arvore.obj. Vertice final:',len(vertices_list))\n",
    "fim_arvore1 = len(vertices_list)\n",
    "    \n",
    "arvore1_vertices_text.append(fim_arvore1)\n",
    "\n",
    "load_texture_from_file(prox_textura,'arvore/tronco-1.jpg')\n",
    "increase_text(arvore1_text_id)\n",
    "load_texture_from_file(prox_textura,'arvore/folha-1.jpg')\n",
    "increase_text(arvore1_text_id)"
   ]
  },
  {
   "cell_type": "code",
   "execution_count": 126,
   "metadata": {},
   "outputs": [
    {
     "name": "stdout",
     "output_type": "stream",
     "text": [
      "Processando modelo pato.obj. Vertice inicial: 1408281\n",
      "Processando modelo pato.obj. Vertice final: 1460793\n"
     ]
    }
   ],
   "source": [
    "modelo = load_model_from_file('pato/pato.obj')\n",
    "\n",
    "print('Processando modelo pato.obj. Vertice inicial:',len(vertices_list))\n",
    "pato_text_id = []\n",
    "pato_vertices_text = []\n",
    "ini_pato = len(vertices_list)\n",
    "for face in modelo['faces']:\n",
    "    for vertice_id in face[0]:\n",
    "        vertices_list.append( modelo['vertices'][vertice_id-1] )\n",
    "    for texture_id in face[1]:\n",
    "        textures_coord_list.append( modelo['texture'][texture_id-1] )\n",
    "print('Processando modelo pato.obj. Vertice final:',len(vertices_list))\n",
    "fim_pato = len(vertices_list)\n",
    "\n",
    "pato_vertices_text.append(ini_pato)\n",
    "pato_vertices_text.append(fim_pato)\n",
    "\n",
    "load_texture_from_file(prox_textura,'pato/pato.jpg')\n",
    "increase_text(pato_text_id)"
   ]
  },
  {
   "cell_type": "code",
   "execution_count": 127,
   "metadata": {},
   "outputs": [
    {
     "name": "stdout",
     "output_type": "stream",
     "text": [
      "Processando modelo mesa.obj. Vertice inicial: 1460793\n",
      "Processando modelo mesa.obj. Vertice final: 1469547\n"
     ]
    }
   ],
   "source": [
    "modelo = load_model_from_file('mesa/mesa.obj')\n",
    "\n",
    "print('Processando modelo mesa.obj. Vertice inicial:',len(vertices_list))\n",
    "mesa_text_id = []\n",
    "mesa_vertices_text = []\n",
    "ini_mesa = len(vertices_list)\n",
    "for face in modelo['faces']:\n",
    "    for vertice_id in face[0]:\n",
    "        vertices_list.append( modelo['vertices'][vertice_id-1] )\n",
    "    for texture_id in face[1]:\n",
    "        textures_coord_list.append( modelo['texture'][texture_id-1] )\n",
    "print('Processando modelo mesa.obj. Vertice final:',len(vertices_list))\n",
    "fim_mesa = len(vertices_list)\n",
    "\n",
    "mesa_vertices_text.append(ini_mesa)\n",
    "mesa_vertices_text.append(fim_mesa)\n",
    "\n",
    "load_texture_from_file(prox_textura,'mesa/mesa.png')\n",
    "increase_text(mesa_text_id)"
   ]
  },
  {
   "cell_type": "code",
   "execution_count": 128,
   "metadata": {},
   "outputs": [
    {
     "name": "stdout",
     "output_type": "stream",
     "text": [
      "Processando modelo ceu.obj. Vertice inicial: 1469547\n",
      "Processando modelo ceu.obj. Vertice final: 1472427\n"
     ]
    }
   ],
   "source": [
    "modelo = load_model_from_file('ceu/ceu.obj')\n",
    "\n",
    "print('Processando modelo ceu.obj. Vertice inicial:',len(vertices_list))\n",
    "ceu_text_id = []\n",
    "ceu_vertices_text = []\n",
    "ini_ceu = len(vertices_list)\n",
    "for face in modelo['faces']:\n",
    "    for vertice_id in face[0]:\n",
    "        vertices_list.append( modelo['vertices'][vertice_id-1] )\n",
    "    for texture_id in face[1]:\n",
    "        textures_coord_list.append( modelo['texture'][texture_id-1] )\n",
    "print('Processando modelo ceu.obj. Vertice final:',len(vertices_list))\n",
    "fim_ceu = len(vertices_list)\n",
    "\n",
    "ceu_vertices_text.append(ini_ceu)\n",
    "ceu_vertices_text.append(fim_ceu)\n",
    "\n",
    "load_texture_from_file(prox_textura,'ceu/ceu.png')\n",
    "increase_text(ceu_text_id)"
   ]
  },
  {
   "cell_type": "code",
   "execution_count": 129,
   "metadata": {
    "tags": []
   },
   "outputs": [
    {
     "name": "stdout",
     "output_type": "stream",
     "text": [
      "Processando modelo carro.obj. Vertice inicial: 1472427\n",
      "Processando modelo carro.obj. Vertice final: 1486629\n"
     ]
    }
   ],
   "source": [
    "modelo = load_model_from_file('carro/carro.obj')\n",
    "\n",
    "print('Processando modelo carro.obj. Vertice inicial:',len(vertices_list))\n",
    "carro_text_id = []\n",
    "carro_vertices_text = []\n",
    "ini_carro = len(vertices_list)\n",
    "for face in modelo['faces']:\n",
    "    for vertice_id in face[0]:\n",
    "        vertices_list.append( modelo['vertices'][vertice_id-1] )\n",
    "    for texture_id in face[1]:\n",
    "        textures_coord_list.append( modelo['texture'][texture_id-1] )\n",
    "print('Processando modelo carro.obj. Vertice final:',len(vertices_list))\n",
    "fim_carro = len(vertices_list)\n",
    "\n",
    "carro_vertices_text.append(ini_carro)\n",
    "carro_vertices_text.append(fim_carro)\n",
    "\n",
    "load_texture_from_file(prox_textura,'carro/carro.jpg')\n",
    "increase_text(carro_text_id)"
   ]
  },
  {
   "cell_type": "code",
   "execution_count": 130,
   "metadata": {},
   "outputs": [
    {
     "name": "stdout",
     "output_type": "stream",
     "text": [
      "Processando modelo cachorro.obj. Vertice inicial: 1486629\n",
      "Processando modelo cachorro.obj. Vertice final: 1702533\n"
     ]
    }
   ],
   "source": [
    "modelo = load_model_from_file('cachorro/cachorro.obj')\n",
    "\n",
    "print('Processando modelo cachorro.obj. Vertice inicial:',len(vertices_list))\n",
    "cachorro_text_id = []\n",
    "cachorro_vertices_text = []\n",
    "ini_cachorro = len(vertices_list)\n",
    "for face in modelo['faces']:\n",
    "    for vertice_id in face[0]:\n",
    "        vertices_list.append( modelo['vertices'][vertice_id-1] )\n",
    "    for texture_id in face[1]:\n",
    "        textures_coord_list.append( modelo['texture'][texture_id-1] )\n",
    "print('Processando modelo cachorro.obj. Vertice final:',len(vertices_list))\n",
    "fim_cachorro = len(vertices_list)\n",
    "\n",
    "cachorro_vertices_text.append(ini_cachorro)\n",
    "cachorro_vertices_text.append(fim_cachorro)\n",
    "\n",
    "load_texture_from_file(prox_textura,'cachorro/cachorro.jpg')\n",
    "increase_text(cachorro_text_id)"
   ]
  },
  {
   "cell_type": "code",
   "execution_count": 131,
   "metadata": {},
   "outputs": [
    {
     "name": "stdout",
     "output_type": "stream",
     "text": [
      "Processando modelo homem.obj. Vertice inicial: 1702533\n",
      "Processando modelo homem.obj. Vertice final: 1764159\n"
     ]
    }
   ],
   "source": [
    "modelo = load_model_from_file('homem/homem.obj')\n",
    "\n",
    "print('Processando modelo homem.obj. Vertice inicial:',len(vertices_list))\n",
    "homem_text_id = []\n",
    "homem_vertices_text = []\n",
    "ini_homem = len(vertices_list)\n",
    "for face in modelo['faces']:\n",
    "    for vertice_id in face[0]:\n",
    "        vertices_list.append( modelo['vertices'][vertice_id-1] )\n",
    "    for texture_id in face[1]:\n",
    "        textures_coord_list.append( modelo['texture'][texture_id-1] )\n",
    "print('Processando modelo homem.obj. Vertice final:',len(vertices_list))\n",
    "fim_homem = len(vertices_list)\n",
    "\n",
    "homem_vertices_text.append(ini_homem)\n",
    "homem_vertices_text.append(fim_homem)\n",
    "\n",
    "load_texture_from_file(prox_textura,'homem/homem.jpg')\n",
    "increase_text(homem_text_id)"
   ]
  },
  {
   "cell_type": "code",
   "execution_count": 132,
   "metadata": {},
   "outputs": [
    {
     "name": "stdout",
     "output_type": "stream",
     "text": [
      "Processando modelo cama.obj. Vertice inicial: 1764159\n",
      "Processando modelo cama.obj. Vertice final: 2396676\n"
     ]
    }
   ],
   "source": [
    "modelo = load_model_from_file('cama/cama.obj')\n",
    "\n",
    "print('Processando modelo cama.obj. Vertice inicial:',len(vertices_list))\n",
    "cama_text_id = []\n",
    "cama_vertices_text = []\n",
    "ini_cama = len(vertices_list)\n",
    "for face in modelo['faces']:\n",
    "    for vertice_id in face[0]:\n",
    "        vertices_list.append( modelo['vertices'][vertice_id-1] )\n",
    "    for texture_id in face[1]:\n",
    "        textures_coord_list.append( modelo['texture'][texture_id-1] )\n",
    "print('Processando modelo cama.obj. Vertice final:',len(vertices_list))\n",
    "fim_cama = len(vertices_list)\n",
    "\n",
    "cama_vertices_text.append(ini_cama)\n",
    "cama_vertices_text.append(fim_cama)\n",
    "\n",
    "load_texture_from_file(prox_textura,'cama/cama.tga')\n",
    "increase_text(cama_text_id)"
   ]
  },
  {
   "cell_type": "code",
   "execution_count": 133,
   "metadata": {},
   "outputs": [
    {
     "name": "stdout",
     "output_type": "stream",
     "text": [
      "Processando modelo parede.obj. Vertice inicial: 2396676\n",
      "Processando modelo parede.obj. Vertice final: 2396748\n"
     ]
    }
   ],
   "source": [
    "modelo = load_model_from_file('parede/wall.obj')\n",
    "\n",
    "print('Processando modelo parede.obj. Vertice inicial:',len(vertices_list))\n",
    "parede_text_id = []\n",
    "parede_vertices_text = []\n",
    "ini_parede = len(vertices_list)\n",
    "for face in modelo['faces']:\n",
    "    for vertice_id in face[0]:\n",
    "        vertices_list.append( modelo['vertices'][vertice_id-1] )\n",
    "    for texture_id in face[1]:\n",
    "        textures_coord_list.append( modelo['texture'][texture_id-1] )\n",
    "print('Processando modelo parede.obj. Vertice final:',len(vertices_list))\n",
    "fim_parede = len(vertices_list)\n",
    "\n",
    "parede_vertices_text.append(ini_parede)\n",
    "parede_vertices_text.append(fim_parede)\n",
    "\n",
    "load_texture_from_file(prox_textura,'parede/parede.jpg')\n",
    "increase_text(parede_text_id)"
   ]
  },
  {
   "cell_type": "code",
   "execution_count": 134,
   "metadata": {},
   "outputs": [
    {
     "name": "stdout",
     "output_type": "stream",
     "text": [
      "Processando modelo arvore-2.obj. Vertice inicial: 2396748\n",
      "Materiais.002 vertice inicial:  2396748\n",
      "Materiais.003 vertice inicial:  2506188\n",
      "Processando modelo arvore-2.obj. Vertice final: 2584644\n"
     ]
    }
   ],
   "source": [
    "modelo = load_model_from_file('arvore/arvore-2.obj')\n",
    "\n",
    "print('Processando modelo arvore-2.obj. Vertice inicial:',len(vertices_list))\n",
    "faces_visited = []\n",
    "arvore2_vertices_text = []\n",
    "arvore2_text_id = []\n",
    "ini_arvore2 = len(vertices_list)\n",
    "for face in modelo['faces']:\n",
    "    if face[2] not in faces_visited:\n",
    "        print(face[2], 'vertice inicial: ', len(vertices_list))\n",
    "        faces_visited.append(face[2])\n",
    "        arvore2_vertices_text.append(len(vertices_list))\n",
    "    for vertice_id in face[0]:\n",
    "        vertices_list.append( modelo['vertices'][vertice_id-1] )\n",
    "    for texture_id in face[1]:\n",
    "        textures_coord_list.append( modelo['texture'][texture_id-1] )\n",
    "print('Processando modelo arvore-2.obj. Vertice final:',len(vertices_list))\n",
    "fim_arvore2 = len(vertices_list)\n",
    "    \n",
    "arvore2_vertices_text.append(fim_arvore2)\n",
    "\n",
    "load_texture_from_file(prox_textura,'arvore/tronco-2.png')\n",
    "increase_text(arvore2_text_id)\n",
    "load_texture_from_file(prox_textura,'arvore/folha-2.png')\n",
    "increase_text(arvore2_text_id)"
   ]
  },
  {
   "cell_type": "code",
   "execution_count": 135,
   "metadata": {},
   "outputs": [
    {
     "name": "stdout",
     "output_type": "stream",
     "text": [
      "Processando modelo caveira.obj. Vertice inicial: 2584644\n",
      "Processando modelo caveira.obj. Vertice final: 2824692\n"
     ]
    }
   ],
   "source": [
    "modelo = load_model_from_file('caveira/caveira.obj')\n",
    "\n",
    "print('Processando modelo caveira.obj. Vertice inicial:',len(vertices_list))\n",
    "caveira_text_id = []\n",
    "caveira_vertices_text = []\n",
    "ini_caveira = len(vertices_list)\n",
    "for face in modelo['faces']:\n",
    "    for vertice_id in face[0]:\n",
    "        vertices_list.append( modelo['vertices'][vertice_id-1] )\n",
    "    for texture_id in face[1]:\n",
    "        textures_coord_list.append( modelo['texture'][texture_id-1] )\n",
    "print('Processando modelo caveira.obj. Vertice final:',len(vertices_list))\n",
    "fim_caveira = len(vertices_list)\n",
    "\n",
    "caveira_vertices_text.append(ini_caveira)\n",
    "caveira_vertices_text.append(fim_caveira)\n",
    "\n",
    "load_texture_from_file(prox_textura,'caveira/caveira.jpg')\n",
    "increase_text(caveira_text_id)"
   ]
  },
  {
   "cell_type": "markdown",
   "metadata": {},
   "source": [
    "### Para enviar nossos dados da CPU para a GPU, precisamos requisitar slots.\n",
    "\n",
    "Nós agora vamos requisitar dois slots.\n",
    "* Um para enviar coordenadas dos vértices.\n",
    "* Outros para enviar coordenadas de texturas."
   ]
  },
  {
   "cell_type": "code",
   "execution_count": 136,
   "metadata": {},
   "outputs": [],
   "source": [
    "# Request a buffer slot from GPU\n",
    "buffer = glGenBuffers(2)"
   ]
  },
  {
   "cell_type": "markdown",
   "metadata": {},
   "source": [
    "###  Enviando coordenadas de vértices para a GPU"
   ]
  },
  {
   "cell_type": "code",
   "execution_count": 137,
   "metadata": {},
   "outputs": [],
   "source": [
    "vertices = np.zeros(len(vertices_list), [(\"position\", np.float32, 3)])\n",
    "vertices['position'] = vertices_list\n",
    "\n",
    "\n",
    "# Upload data\n",
    "glBindBuffer(GL_ARRAY_BUFFER, buffer[0])\n",
    "glBufferData(GL_ARRAY_BUFFER, vertices.nbytes, vertices, GL_STATIC_DRAW)\n",
    "stride = vertices.strides[0]\n",
    "offset = ctypes.c_void_p(0)\n",
    "loc_vertices = glGetAttribLocation(program, \"position\")\n",
    "glEnableVertexAttribArray(loc_vertices)\n",
    "glVertexAttribPointer(loc_vertices, 3, GL_FLOAT, False, stride, offset)"
   ]
  },
  {
   "cell_type": "markdown",
   "metadata": {},
   "source": [
    "###  Enviando coordenadas de textura para a GPU"
   ]
  },
  {
   "cell_type": "code",
   "execution_count": 138,
   "metadata": {},
   "outputs": [],
   "source": [
    "textures = np.zeros(len(textures_coord_list), [(\"position\", np.float32, 2)]) # duas coordenadas\n",
    "textures['position'] = textures_coord_list\n",
    "\n",
    "# Upload data\n",
    "glBindBuffer(GL_ARRAY_BUFFER, buffer[1])\n",
    "glBufferData(GL_ARRAY_BUFFER, textures.nbytes, textures, GL_STATIC_DRAW)\n",
    "stride = textures.strides[0]\n",
    "offset = ctypes.c_void_p(0)\n",
    "loc_texture_coord = glGetAttribLocation(program, \"texture_coord\")\n",
    "glEnableVertexAttribArray(loc_texture_coord)\n",
    "glVertexAttribPointer(loc_texture_coord, 2, GL_FLOAT, False, stride, offset)"
   ]
  },
  {
   "cell_type": "markdown",
   "metadata": {},
   "source": [
    "### Desenhando nossos modelos\n",
    "* Cada modelo tem um Model para posicioná-los no mundo.\n",
    "* É necessário saber qual a posição inicial e total de vértices de cada modelo\n",
    "* É necessário indicar qual o ID da textura do modelo\n"
   ]
  },
  {
   "cell_type": "code",
   "execution_count": 139,
   "metadata": {},
   "outputs": [],
   "source": [
    "def desenha_arvore1(_tx, _ty, _tz):\n",
    "    \n",
    "    # rotacao\n",
    "    angle = 0.0;\n",
    "    rx = 0.0; ry = 0.0; rz = 1.0;\n",
    "    \n",
    "    # translacao\n",
    "    tx = _tx; ty = _ty; tz = _tz;\n",
    "    \n",
    "    # escala\n",
    "    sx = 3.0; sy = 3.0; sz = 3.0;\n",
    "    \n",
    "    mat_model = model(angle, rx, ry, rz, tx, ty, tz, sx, sy, sz)\n",
    "    loc_model = glGetUniformLocation(program, \"model\")\n",
    "    glUniformMatrix4fv(loc_model, 1, GL_TRUE, mat_model)\n",
    "    \n",
    "    for i in range(0, len(arvore1_text_id)):\n",
    "        glBindTexture(GL_TEXTURE_2D, arvore1_text_id[i])\n",
    "        glDrawArrays(GL_TRIANGLES, arvore1_vertices_text[i], arvore1_vertices_text[i+1]-arvore1_vertices_text[i])\n",
    "    "
   ]
  },
  {
   "cell_type": "code",
   "execution_count": 140,
   "metadata": {},
   "outputs": [],
   "source": [
    "def desenha_terreno():\n",
    "    \n",
    "    # rotacao\n",
    "    angle = 0.0;\n",
    "    rx = 0.0; ry = 0.0; rz = 1.0;\n",
    "    \n",
    "    # translacao\n",
    "    tx = 0.0; ty = -1.01; tz = 0.0;\n",
    "    \n",
    "    # escala\n",
    "    sx = 40.0; sy = 40.0; sz = 40.0;\n",
    "    \n",
    "    mat_model = model(angle, rx, ry, rz, tx, ty, tz, sx, sy, sz)\n",
    "    loc_model = glGetUniformLocation(program, \"model\")\n",
    "    glUniformMatrix4fv(loc_model, 1, GL_TRUE, mat_model)\n",
    "       \n",
    "    for i in range(0, len(pedra_text_id)):\n",
    "        glBindTexture(GL_TEXTURE_2D, pedra_text_id[i])\n",
    "        glDrawArrays(GL_TRIANGLES, pedra_vertices_text[i], pedra_vertices_text[i+1]-pedra_vertices_text[i])\n",
    "\n",
    "    for i in range(0, len(grama_text_id)):\n",
    "        glBindTexture(GL_TEXTURE_2D, grama_text_id[i])\n",
    "        glDrawArrays(GL_TRIANGLES, grama_vertices_text[i], grama_vertices_text[i+1]-grama_vertices_text[i])"
   ]
  },
  {
   "cell_type": "code",
   "execution_count": 141,
   "metadata": {},
   "outputs": [],
   "source": [
    "def desenha_sofa():\n",
    "    \n",
    "    # rotacao\n",
    "    angle = 270.0;\n",
    "    rx = 0.0; ry = 1.0; rz = 0.0;\n",
    "    \n",
    "    # translacao\n",
    "    tx = 18.5; ty = -0.9; tz = -5.0;\n",
    "    \n",
    "    # escala\n",
    "    sx = 0.6; sy = 0.6; sz = 0.6;\n",
    "    \n",
    "    mat_model = model(angle, rx, ry, rz, tx, ty, tz, sx, sy, sz)\n",
    "    loc_model = glGetUniformLocation(program, \"model\")\n",
    "    glUniformMatrix4fv(loc_model, 1, GL_TRUE, mat_model)\n",
    "    \n",
    "    for i in range(0, len(sofa_text_id)):\n",
    "        glBindTexture(GL_TEXTURE_2D, sofa_text_id[i])\n",
    "        glDrawArrays(GL_TRIANGLES, sofa_vertices_text[i], sofa_vertices_text[i+1]-sofa_vertices_text[i])"
   ]
  },
  {
   "cell_type": "code",
   "execution_count": 142,
   "metadata": {},
   "outputs": [],
   "source": [
    "def desenha_casa():\n",
    "    \n",
    "    # rotacao\n",
    "    angle = 0.0;\n",
    "    rx = 0.0; ry = 0.0; rz = 1.0;\n",
    "    \n",
    "    # translacao\n",
    "    tx = -8.0; ty = -1.0; tz = 5.0;\n",
    "    \n",
    "    # escala\n",
    "    sx = 3.0; sy = 3.0; sz = 3.0;\n",
    "    \n",
    "    mat_model = model(angle, rx, ry, rz, tx, ty, tz, sx, sy, sz)\n",
    "    loc_model = glGetUniformLocation(program, \"model\")\n",
    "    glUniformMatrix4fv(loc_model, 1, GL_TRUE, mat_model)\n",
    "    \n",
    "    for i in range(0, len(casa_text_id)):\n",
    "        glBindTexture(GL_TEXTURE_2D, casa_text_id[i])\n",
    "        glDrawArrays(GL_TRIANGLES, casa_vertices_text[i], casa_vertices_text[i+1]-casa_vertices_text[i])"
   ]
  },
  {
   "cell_type": "code",
   "execution_count": 143,
   "metadata": {},
   "outputs": [],
   "source": [
    "def desenha_tv():\n",
    "    \n",
    "    # rotacao\n",
    "    angle = -270.0;\n",
    "    rx = 0.0; ry = 1.0; rz = 0.0;\n",
    "    \n",
    "    # translacao\n",
    "    tx = -3.5; ty = 1.1; tz = -4.5;\n",
    "    \n",
    "    # escala\n",
    "    sx = 0.6; sy = 0.6; sz = 0.6;\n",
    "    \n",
    "    mat_model = model(angle, rx, ry, rz, tx, ty, tz, sx, sy, sz)\n",
    "    loc_model = glGetUniformLocation(program, \"model\")\n",
    "    glUniformMatrix4fv(loc_model, 1, GL_TRUE, mat_model)\n",
    "       \n",
    "    for i in range(0, len(tv_text_id)):\n",
    "        glBindTexture(GL_TEXTURE_2D, tv_text_id[i])\n",
    "        glDrawArrays(GL_TRIANGLES, tv_vertices_text[i], tv_vertices_text[i+1]-tv_vertices_text[i])"
   ]
  },
  {
   "cell_type": "code",
   "execution_count": 144,
   "metadata": {},
   "outputs": [],
   "source": [
    "def desenha_pato():\n",
    "    \n",
    "    global inc_x, dec_z, tx_tz, angle_duck\n",
    "    \n",
    "    # rotacao\n",
    "    rx = 0.0; ry = 1.0; rz = 0.0;\n",
    "    \n",
    "    # translacao\n",
    "    tx = inc_x; ty = -1.0; tz = dec_z;\n",
    "    \n",
    "    if inc_x > 25.0:\n",
    "        inc_x = 25.0\n",
    "        tx_tz = [True, False]\n",
    "        angle_duck += 90.0\n",
    "    elif inc_x < -20.0:\n",
    "        inc_x = -20.0\n",
    "        tx_tz = [True, True]\n",
    "        angle_duck += 90.0\n",
    "    elif inc_x < 25.0 and tx_tz == [False, False]:\n",
    "        inc_x += 0.1\n",
    "    elif inc_x > -20.0 and tx_tz == [False, True]:\n",
    "        inc_x -= 0.1\n",
    "    \n",
    "    if dec_z < -35.0:\n",
    "        dec_z = -35.0\n",
    "        tx_tz = [False, True]\n",
    "        angle_duck += 90.0\n",
    "    elif dec_z > 9.0:\n",
    "        dec_z = 9.0\n",
    "        tx_tz = [False, False]\n",
    "        angle_duck += 90.0\n",
    "    elif dec_z > -35.0 and tx_tz == [True, False]:\n",
    "        dec_z -= 0.1\n",
    "    elif dec_z < 9.0 and tx_tz == [True, True]:\n",
    "        dec_z += 0.1\n",
    "    \n",
    "    # escala\n",
    "    sx = 0.3; sy = 0.3; sz = 0.3;\n",
    "    \n",
    "    mat_model = model(angle_duck, rx, ry, rz, tx, ty, tz, sx, sy, sz)\n",
    "    loc_model = glGetUniformLocation(program, \"model\")\n",
    "    glUniformMatrix4fv(loc_model, 1, GL_TRUE, mat_model)\n",
    "       \n",
    "    for i in range(0, len(pato_text_id)):\n",
    "        glBindTexture(GL_TEXTURE_2D, pato_text_id[i])\n",
    "        glDrawArrays(GL_TRIANGLES, pato_vertices_text[i], pato_vertices_text[i+1]-pato_vertices_text[i])"
   ]
  },
  {
   "cell_type": "code",
   "execution_count": 145,
   "metadata": {},
   "outputs": [],
   "source": [
    "def desenha_mesa():\n",
    "    \n",
    "    # rotacao\n",
    "    angle = 0.0;\n",
    "    rx = 0.0; ry = 1.0; rz = 0.0;\n",
    "    \n",
    "    # translacao\n",
    "    tx = -4.0; ty = -1.0; tz = -4.5;\n",
    "    \n",
    "    # escala\n",
    "    sx = 6.0; sy = 6.0; sz = 6.0;\n",
    "    \n",
    "    mat_model = model(angle, rx, ry, rz, tx, ty, tz, sx, sy, sz)\n",
    "    loc_model = glGetUniformLocation(program, \"model\")\n",
    "    glUniformMatrix4fv(loc_model, 1, GL_TRUE, mat_model)\n",
    "       \n",
    "    for i in range(0, len(mesa_text_id)):\n",
    "        glBindTexture(GL_TEXTURE_2D, mesa_text_id[i])\n",
    "        glDrawArrays(GL_TRIANGLES, mesa_vertices_text[i], mesa_vertices_text[i+1]-mesa_vertices_text[i])"
   ]
  },
  {
   "cell_type": "code",
   "execution_count": 146,
   "metadata": {},
   "outputs": [],
   "source": [
    "def desenha_ceu():\n",
    "    \n",
    "    # rotacao\n",
    "    angle = 90.0;\n",
    "    rx = 90.0; ry = 1.0; rz = 90.0;\n",
    "    \n",
    "    # translacao\n",
    "    tx = 40.0; ty = -60.0; tz = -100.5;\n",
    "    \n",
    "    # escala\n",
    "    sx = 20.0; sy = 20.0; sz = 20.0;\n",
    "    \n",
    "    mat_model = model(angle, rx, ry, rz, tx, ty, tz, sx, sy, sz)\n",
    "    loc_model = glGetUniformLocation(program, \"model\")\n",
    "    glUniformMatrix4fv(loc_model, 1, GL_TRUE, mat_model)\n",
    "       \n",
    "    for i in range(0, len(ceu_text_id)):\n",
    "        glBindTexture(GL_TEXTURE_2D, ceu_text_id[i])\n",
    "        glDrawArrays(GL_TRIANGLES, ceu_vertices_text[i], ceu_vertices_text[i+1]-ceu_vertices_text[i])"
   ]
  },
  {
   "cell_type": "code",
   "execution_count": 147,
   "metadata": {},
   "outputs": [],
   "source": [
    "def desenha_carro():\n",
    "    \n",
    "    # rotacao\n",
    "    angle = 0.0;\n",
    "    rx = 0.0; ry = 0.0; rz = 1.0;\n",
    "    \n",
    "    # translacao\n",
    "    tx = -28; ty = -1.0; tz = -5.0;\n",
    "    \n",
    "    # escala\n",
    "    sx = 4.0; sy = 4.0; sz = 4.0;\n",
    "    \n",
    "    mat_model = model(angle, rx, ry, rz, tx, ty, tz, sx, sy, sz)\n",
    "    loc_model = glGetUniformLocation(program, \"model\")\n",
    "    glUniformMatrix4fv(loc_model, 1, GL_TRUE, mat_model)\n",
    "\n",
    "    for i in range(0, len(carro_text_id)):\n",
    "        glBindTexture(GL_TEXTURE_2D, carro_text_id[i])\n",
    "        glDrawArrays(GL_TRIANGLES, carro_vertices_text[i], carro_vertices_text[i+1]-carro_vertices_text[i])"
   ]
  },
  {
   "cell_type": "code",
   "execution_count": 148,
   "metadata": {},
   "outputs": [],
   "source": [
    "def desenha_cachorro():\n",
    "    \n",
    "    # rotacao\n",
    "    angle = 0.0;\n",
    "    rx = -5.0; ry = 1.0; rz = 0.0;\n",
    "    \n",
    "    # translacao\n",
    "    tx = 30; ty = -1.0; tz = 9.0;\n",
    "    \n",
    "    # escala\n",
    "    sx = 0.15; sy = 0.15; sz = 0.15;\n",
    "    \n",
    "    mat_model = model(angle, rx, ry, rz, tx, ty, tz, sx, sy, sz)\n",
    "    loc_model = glGetUniformLocation(program, \"model\")\n",
    "    glUniformMatrix4fv(loc_model, 1, GL_TRUE, mat_model)\n",
    "       \n",
    "    for i in range(0, len(cachorro_text_id)):\n",
    "        glBindTexture(GL_TEXTURE_2D, cachorro_text_id[i])\n",
    "        glDrawArrays(GL_TRIANGLES, cachorro_vertices_text[i], cachorro_vertices_text[i+1]-cachorro_vertices_text[i])"
   ]
  },
  {
   "cell_type": "code",
   "execution_count": 149,
   "metadata": {},
   "outputs": [],
   "source": [
    "def desenha_homem():\n",
    "\n",
    "    # rotacao\n",
    "    angle = 0.0;\n",
    "    rx = 0.0; ry = 1.0; rz = 0.0;\n",
    "\n",
    "    # translacao\n",
    "    tx = -1.0; ty = -1.0; tz = -15.0;\n",
    "\n",
    "    # escala\n",
    "    sx = 0.4; sy = 0.4; sz = 0.4;\n",
    "\n",
    "    mat_model = model(angle, rx, ry, rz, tx, ty, tz, sx, sy, sz)\n",
    "    loc_model = glGetUniformLocation(program, \"model\")\n",
    "    glUniformMatrix4fv(loc_model, 1, GL_TRUE, mat_model)\n",
    "\n",
    "    for i in range(0, len(homem_text_id)):\n",
    "        glBindTexture(GL_TEXTURE_2D, homem_text_id[i])\n",
    "        glDrawArrays(GL_TRIANGLES, homem_vertices_text[i], homem_vertices_text[i+1]-homem_vertices_text[i])"
   ]
  },
  {
   "cell_type": "code",
   "execution_count": 150,
   "metadata": {},
   "outputs": [],
   "source": [
    "def desenha_cama():\n",
    "    \n",
    "    # rotacao\n",
    "    angle = 0.0;\n",
    "    rx = 0.0; ry = 1.0; rz = 0.0;\n",
    "    \n",
    "    # translacao\n",
    "    tx = 14.5; ty = -1.7; tz = -18.0;\n",
    "    \n",
    "    # escala\n",
    "    sx = 0.05; sy = 0.05; sz = 0.05;\n",
    "    \n",
    "    mat_model = model(angle, rx, ry, rz, tx, ty, tz, sx, sy, sz)\n",
    "    loc_model = glGetUniformLocation(program, \"model\")\n",
    "    glUniformMatrix4fv(loc_model, 1, GL_TRUE, mat_model)\n",
    "       \n",
    "    for i in range(0, len(cama_text_id)):\n",
    "        glBindTexture(GL_TEXTURE_2D, cama_text_id[i])\n",
    "        glDrawArrays(GL_TRIANGLES, cama_vertices_text[i], cama_vertices_text[i+1]-cama_vertices_text[i])"
   ]
  },
  {
   "cell_type": "code",
   "execution_count": 151,
   "metadata": {},
   "outputs": [],
   "source": [
    "def desenha_parede(tx, ty, tz, angle):\n",
    "    \n",
    "    # rotacao\n",
    "    rx = 0.0; ry = 1.0; rz = 0.0;\n",
    "    \n",
    "    # escala\n",
    "    sx = 3.0; sy = 3.0; sz = 3.0;\n",
    "    \n",
    "    mat_model = model(angle, rx, ry, rz, tx, ty, tz, sx, sy, sz)\n",
    "    loc_model = glGetUniformLocation(program, \"model\")\n",
    "    glUniformMatrix4fv(loc_model, 1, GL_TRUE, mat_model)\n",
    "       \n",
    "    for i in range(0, len(parede_text_id)):\n",
    "        glBindTexture(GL_TEXTURE_2D, parede_text_id[i])\n",
    "        glDrawArrays(GL_TRIANGLES, parede_vertices_text[i], parede_vertices_text[i+1]-parede_vertices_text[i])"
   ]
  },
  {
   "cell_type": "code",
   "execution_count": 152,
   "metadata": {},
   "outputs": [],
   "source": [
    "def desenha_arvore2(_tx, _ty, _tz):\n",
    "    \n",
    "    # rotacao\n",
    "    angle = 0.0;\n",
    "    rx = 0.0; ry = 0.0; rz = 1.0;\n",
    "    \n",
    "    # translacao\n",
    "    tx = _tx; ty = _ty; tz = _tz;\n",
    "    \n",
    "    # escala\n",
    "    sx = 3.0; sy = 3.0; sz = 3.0;\n",
    "    \n",
    "    mat_model = model(angle, rx, ry, rz, tx, ty, tz, sx, sy, sz)\n",
    "    loc_model = glGetUniformLocation(program, \"model\")\n",
    "    glUniformMatrix4fv(loc_model, 1, GL_TRUE, mat_model)\n",
    "    \n",
    "    for i in range(0, len(arvore2_text_id)):\n",
    "        glBindTexture(GL_TEXTURE_2D, arvore2_text_id[i])\n",
    "        glDrawArrays(GL_TRIANGLES, arvore2_vertices_text[i], arvore2_vertices_text[i+1]-arvore2_vertices_text[i])"
   ]
  },
  {
   "cell_type": "code",
   "execution_count": 153,
   "metadata": {},
   "outputs": [],
   "source": [
    "def desenha_caveira(rotacao_inc):\n",
    "    \n",
    "    # rotacao\n",
    "    angle = rotacao_inc;\n",
    "    rx = 0.0; ry = 1.0; rz = 0.0;\n",
    "    \n",
    "    # translacao\n",
    "    tx = 0.0; ty = 2.0; tz = -75.0;\n",
    "    \n",
    "    # escala\n",
    "    sx = 0.7; sy = 0.7; sz = 0.7;\n",
    "    \n",
    "    mat_model = model(angle, rx, ry, rz, tx, ty, tz, sx, sy, sz)\n",
    "    loc_model = glGetUniformLocation(program, \"model\")\n",
    "    glUniformMatrix4fv(loc_model, 1, GL_TRUE, mat_model)\n",
    "       \n",
    "    for i in range(0, len(caveira_text_id)):\n",
    "        glBindTexture(GL_TEXTURE_2D, caveira_text_id[i])\n",
    "        glDrawArrays(GL_TRIANGLES, caveira_vertices_text[i], caveira_vertices_text[i+1]-caveira_vertices_text[i])"
   ]
  },
  {
   "cell_type": "markdown",
   "metadata": {},
   "source": [
    "### Eventos para modificar a posição da câmera.\n",
    "\n",
    "* Usei as teclas A, S, D e W para movimentação no espaço tridimensional\n",
    "* Usei a posição do mouse para \"direcionar\" a câmera"
   ]
  },
  {
   "cell_type": "code",
   "execution_count": 154,
   "metadata": {},
   "outputs": [],
   "source": [
    "cameraPos   = glm.vec3(10.0,  10.0,  10.0);\n",
    "cameraFront = glm.vec3(0.0,  0.0, -1.0);\n",
    "cameraUp    = glm.vec3(0.0,  1.0,  0.0);\n",
    "near = 0.1\n",
    "far = 200.0\n",
    "fovy = 45.0\n",
    "\n",
    "def higher_than_ground(pressedW, pressedS, pressedA, pressedD):\n",
    "    auxW = cameraPos + cameraSpeed * cameraFront\n",
    "    auxS = cameraPos - cameraSpeed * cameraFront\n",
    "    \n",
    "    if(pressedW and auxW[1] > -1):\n",
    "        return True\n",
    "    elif(pressedS and auxS[1] > -1):\n",
    "        return True\n",
    "    else:\n",
    "        return False\n",
    "\n",
    "def inside_wall(pressedW, pressedS, pressedA, pressedD):\n",
    "    auxW = cameraPos + cameraSpeed * cameraFront\n",
    "    auxS = cameraPos - cameraSpeed * cameraFront\n",
    "    auxA = cameraPos - glm.normalize(glm.cross(cameraFront, cameraUp)) * cameraSpeed\n",
    "    auxD = cameraPos + glm.normalize(glm.cross(cameraFront, cameraUp)) * cameraSpeed\n",
    "        \n",
    "    if(pressedW and auxW[2] > -48.25 and auxW[2] < 38.25 and auxW[0] > -48 and auxW[0] < 48 and auxW[1] < 22.6117):\n",
    "        return True\n",
    "    elif(pressedS and auxS[2] > -48.25 and auxS[2] < 38.25 and auxS[0] > -48 and auxS[0] < 48 and auxS[1] < 22.6117):\n",
    "        return True\n",
    "    elif(pressedA and auxA[2] > -48.25 and auxA[2] < 38.25 and auxA[0] > -48 and auxA[0] < 48 and auxA[1] < 22.6117):\n",
    "        return True\n",
    "    elif(pressedD and auxD[2] > -48.25 and auxD[2] < 38.25 and auxD[0] > -48 and auxD[0] < 48 and auxD[1] < 22.6117):\n",
    "        return True\n",
    "    \n",
    "    return False\n",
    "\n",
    "polygonal_mode = False\n",
    "\n",
    "def key_event(window,key,scancode,action,mods):\n",
    "    global cameraPos, cameraFront, cameraUp, cameraSpeed, polygonal_mode, far, near, fovy\n",
    "    \n",
    "    cameraSpeed = 1.5\n",
    "\n",
    "    if key == 70 and (action==1 or action==2): #F FAR\n",
    "        if far - 1.0 > 0.0:\n",
    "            far -= 1.0\n",
    "    if key == 71 and (action==1 or action==2): #G\n",
    "        if far + 1.0 < 1000.0:\n",
    "            far += 1.0\n",
    "    if key == 78 and (action==1 or action==2): #N NEAR\n",
    "        if near - 1.0 > 0.0:\n",
    "            near -= 1.0\n",
    "    if key == 77 and (action==1 or action==2): #M\n",
    "        if near + 1.0 < 1000.0:\n",
    "            near += 1.0\n",
    "    if key == 75 and (action==1 or action==2): #K FOV\n",
    "        if fovy - 1.0 > 0.0:\n",
    "            fovy -= 1.0\n",
    "    if key == 76 and (action==1 or action==2): #L\n",
    "        if fovy + 1.0 < 100.0:\n",
    "            fovy += 1.0\n",
    "    if key == 87 and (action==1 or action==2): # tecla W\n",
    "        if higher_than_ground(True, False, False, False) and inside_wall(True, False, False, False):\n",
    "            cameraPos += cameraSpeed * cameraFront\n",
    "    \n",
    "    if key == 83 and (action==1 or action==2): # tecla S\n",
    "        if higher_than_ground(False, True, False, False) and inside_wall(False, True, False, False):\n",
    "            cameraPos -= cameraSpeed * cameraFront\n",
    "    \n",
    "    if key == 65 and (action==1 or action==2): # tecla A\n",
    "        if inside_wall(False, False, True, False):\n",
    "            cameraPos -= glm.normalize(glm.cross(cameraFront, cameraUp)) * cameraSpeed\n",
    "        \n",
    "    if key == 68 and (action==1 or action==2): # tecla D\n",
    "        if inside_wall(False, False, False, True):\n",
    "            cameraPos += glm.normalize(glm.cross(cameraFront, cameraUp)) * cameraSpeed\n",
    "        \n",
    "    if key == 80 and action==1 and polygonal_mode==True:\n",
    "        polygonal_mode=False\n",
    "    else:\n",
    "        if key == 80 and action==1 and polygonal_mode==False:\n",
    "            polygonal_mode=True\n",
    "        \n",
    "        \n",
    "        \n",
    "firstMouse = True\n",
    "yaw = -90.0 \n",
    "pitch = 0.0\n",
    "lastX =  largura/2\n",
    "lastY =  altura/2\n",
    "\n",
    "def mouse_event(window, xpos, ypos):\n",
    "    global firstMouse, cameraFront, yaw, pitch, lastX, lastY\n",
    "    \n",
    "    if firstMouse:\n",
    "        lastX = xpos\n",
    "        lastY = ypos\n",
    "        firstMouse = False\n",
    "\n",
    "    xoffset = xpos - lastX\n",
    "    yoffset = lastY - ypos\n",
    "    lastX = xpos\n",
    "    lastY = ypos\n",
    "\n",
    "    sensitivity = 0.3\n",
    "    xoffset *= sensitivity\n",
    "    yoffset *= sensitivity\n",
    "\n",
    "    yaw += xoffset;\n",
    "    pitch += yoffset;\n",
    "\n",
    "    \n",
    "    if pitch >= 90.0: pitch = 90.0\n",
    "    if pitch <= -90.0: pitch = -90.0\n",
    "\n",
    "    front = glm.vec3()\n",
    "    front.x = math.cos(glm.radians(yaw)) * math.cos(glm.radians(pitch))\n",
    "    front.y = math.sin(glm.radians(pitch))\n",
    "    front.z = math.sin(glm.radians(yaw)) * math.cos(glm.radians(pitch))\n",
    "    cameraFront = glm.normalize(front)\n",
    "\n",
    "\n",
    "    \n",
    "glfw.set_key_callback(window,key_event)\n",
    "glfw.set_cursor_pos_callback(window, mouse_event)\n"
   ]
  },
  {
   "cell_type": "markdown",
   "metadata": {},
   "source": [
    "### Matrizes Model, View e Projection\n",
    "\n",
    "Teremos uma aula específica para entender o seu funcionamento."
   ]
  },
  {
   "cell_type": "code",
   "execution_count": 155,
   "metadata": {},
   "outputs": [],
   "source": [
    "def model(angle, r_x, r_y, r_z, t_x, t_y, t_z, s_x, s_y, s_z):\n",
    "    \n",
    "    angle = math.radians(angle)\n",
    "    \n",
    "    matrix_transform = glm.mat4(1.0) # instanciando uma matriz identidade\n",
    "    \n",
    "    # aplicando translacao\n",
    "    matrix_transform = glm.translate(matrix_transform, glm.vec3(t_x, t_y, t_z))    \n",
    "    \n",
    "    # aplicando rotacao\n",
    "    matrix_transform = glm.rotate(matrix_transform, angle, glm.vec3(r_x, r_y, r_z))\n",
    "    \n",
    "    # aplicando escala\n",
    "    matrix_transform = glm.scale(matrix_transform, glm.vec3(s_x, s_y, s_z))\n",
    "    \n",
    "    matrix_transform = np.array(matrix_transform).T # pegando a transposta da matriz (glm trabalha com ela invertida)\n",
    "    \n",
    "    return matrix_transform\n",
    "\n",
    "def view():\n",
    "    global cameraPos, cameraFront, cameraUp\n",
    "    mat_view = glm.lookAt(cameraPos, cameraPos + cameraFront, cameraUp);\n",
    "    mat_view = np.array(mat_view)\n",
    "    return mat_view\n",
    "\n",
    "def projection():\n",
    "    global altura, largura, near, far, fovy\n",
    "    \n",
    "    # perspective parameters: fovy, aspect, near, far\n",
    "    mat_projection = glm.perspective(glm.radians(fovy), largura/altura, near, far)\n",
    "    mat_projection = np.array(mat_projection)    \n",
    "    return mat_projection"
   ]
  },
  {
   "cell_type": "markdown",
   "metadata": {},
   "source": [
    "### Nesse momento, nós exibimos a janela!\n"
   ]
  },
  {
   "cell_type": "code",
   "execution_count": 156,
   "metadata": {},
   "outputs": [],
   "source": [
    "glfw.show_window(window)\n",
    "glfw.set_cursor_pos(window, lastX, lastY)"
   ]
  },
  {
   "cell_type": "markdown",
   "metadata": {},
   "source": [
    "### Loop principal da janela.\n",
    "Enquanto a janela não for fechada, esse laço será executado. É neste espaço que trabalhamos com algumas interações com a OpenGL."
   ]
  },
  {
   "cell_type": "code",
   "execution_count": 157,
   "metadata": {},
   "outputs": [],
   "source": [
    "glEnable(GL_DEPTH_TEST)\n",
    "global inc_x, dec_z, tx_tz, angle_duck\n",
    "angle_duck = -15.0\n",
    "tx_tz = [False, False]\n",
    "inc_x = -20.0   \n",
    "dec_z = 9.0\n",
    "rotacao_inc = 0.0\n",
    "while not glfw.window_should_close(window):\n",
    "\n",
    "    glfw.poll_events() \n",
    "    \n",
    "    glClear(GL_COLOR_BUFFER_BIT | GL_DEPTH_BUFFER_BIT)\n",
    "    \n",
    "    glClearColor(1.0, 1.0, 1.0, 1.0)\n",
    "    \n",
    "    if polygonal_mode==True:\n",
    "        glPolygonMode(GL_FRONT_AND_BACK,GL_LINE)\n",
    "    if polygonal_mode==False:\n",
    "        glPolygonMode(GL_FRONT_AND_BACK,GL_FILL)\n",
    "    \n",
    "    desenha_arvore1(40.0, -1.0, 30.0)  \n",
    "    desenha_arvore2(25.0, -1.0, 30.0)\n",
    "    desenha_arvore1(10.0, -1.0, 30.0)\n",
    "    desenha_arvore2(-5.0, -1.0, 30.0)   \n",
    "    desenha_arvore1(-20.0, -1.0, 30.0)\n",
    "    desenha_arvore2(-35.0, -1.0, 30.0)\n",
    "    desenha_terreno()\n",
    "    desenha_casa()\n",
    "    desenha_sofa()\n",
    "    desenha_tv()\n",
    "    desenha_pato()\n",
    "    desenha_mesa()\n",
    "    desenha_ceu()\n",
    "    desenha_carro()\n",
    "    desenha_cachorro()\n",
    "    desenha_homem()\n",
    "    desenha_cama()\n",
    "    desenha_caveira(rotacao_inc)\n",
    "    desenha_parede(50.0, -1.7, 20.25, 90)\n",
    "    desenha_parede(50.0, -1.7, -20.25, 90)\n",
    "    desenha_parede(50.0, -1.7, 60.75, 90)\n",
    "    desenha_parede(20.25, -1.7, -50.25, 0)\n",
    "    desenha_parede(-20.25, -1.7, -50.25, 0)\n",
    "    desenha_parede(-60.75, -1.7, -50.25, 0)\n",
    "    desenha_parede(-50.0, -1.7, 20.25, 90)\n",
    "    desenha_parede(-50.0, -1.7, -20.25, 90)\n",
    "    desenha_parede(-50.0, -1.7, 60.75, 90)\n",
    "    desenha_parede(20.25, -1.7, 40.25, 0)\n",
    "    desenha_parede(-20.25, -1.7, 40.25, 0)\n",
    "    desenha_parede(-60.75, -1.7, 40.25, 0)\n",
    "    #x = 48 -48\n",
    "    #z = -48.25 38.25\n",
    "    \n",
    "    mat_view = view()\n",
    "    loc_view = glGetUniformLocation(program, \"view\")\n",
    "    glUniformMatrix4fv(loc_view, 1, GL_FALSE, mat_view)\n",
    "\n",
    "    rotacao_inc += 0.1\n",
    "    mat_projection = projection()\n",
    "    loc_projection = glGetUniformLocation(program, \"projection\")\n",
    "    glUniformMatrix4fv(loc_projection, 1, GL_FALSE, mat_projection)    \n",
    "\n",
    "    \n",
    "    glfw.swap_buffers(window)\n",
    "\n",
    "glfw.terminate()"
   ]
  }
 ],
 "metadata": {
  "finalized": {
   "timestamp": 1589232864147,
   "trusted": true
  },
  "interpreter": {
   "hash": "1c532efb7b702a59145ee86f0ef3ad3eef355b8384e03af75aa63b4e4167ffd0"
  },
  "kernelspec": {
   "display_name": "Python 3.8.10 64-bit ('base': conda)",
   "name": "python3"
  },
  "language_info": {
   "codemirror_mode": {
    "name": "ipython",
    "version": 3
   },
   "file_extension": ".py",
   "mimetype": "text/x-python",
   "name": "python",
   "nbconvert_exporter": "python",
   "pygments_lexer": "ipython3",
   "version": "3.8.10"
  }
 },
 "nbformat": 4,
 "nbformat_minor": 2
}